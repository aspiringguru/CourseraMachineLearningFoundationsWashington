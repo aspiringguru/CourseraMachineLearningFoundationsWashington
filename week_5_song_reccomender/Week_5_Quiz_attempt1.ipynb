{
 "cells": [
  {
   "cell_type": "code",
   "execution_count": 1,
   "metadata": {
    "collapsed": true
   },
   "outputs": [],
   "source": [
    "import graphlab\n",
    "import time"
   ]
  },
  {
   "cell_type": "code",
   "execution_count": 2,
   "metadata": {
    "collapsed": false
   },
   "outputs": [
    {
     "name": "stderr",
     "output_type": "stream",
     "text": [
      "[INFO] graphlab.cython.cy_server: GraphLab Create v2.1 started. Logging: Z:\\WINTEMP\\graphlab_server_1479012159.log.0\n"
     ]
    },
    {
     "name": "stdout",
     "output_type": "stream",
     "text": [
      "This non-commercial license of GraphLab Create for academic use is assigned to bmatthewtaylor@gmail.com and will expire on October 27, 2017.\n",
      "--- time to load data =  1.75100016594 seconds ---\n",
      "<class 'graphlab.data_structures.sframe.SFrame'> (1116609, 6)\n"
     ]
    }
   ],
   "source": [
    "start_time = time.time()\n",
    "song_data = graphlab.SFrame('../data/song_data.gl/')\n",
    "print(\"--- time to load data =  %s seconds ---\" % (time.time() - start_time))\n",
    "print type(song_data), song_data.shape\n"
   ]
  },
  {
   "cell_type": "code",
   "execution_count": 3,
   "metadata": {
    "collapsed": false
   },
   "outputs": [
    {
     "name": "stdout",
     "output_type": "stream",
     "text": [
      "['user_id', 'song_id', 'listen_count', 'title', 'artist', 'song']\n"
     ]
    }
   ],
   "source": [
    "print song_data.column_names()"
   ]
  },
  {
   "cell_type": "markdown",
   "metadata": {},
   "source": [
    "Q1. Which of the artists below have had the __most__ unique users listening to their songs?\n",
    "Calcs below."
   ]
  },
  {
   "cell_type": "code",
   "execution_count": 4,
   "metadata": {
    "collapsed": false
   },
   "outputs": [
    {
     "name": "stdout",
     "output_type": "stream",
     "text": [
      "kayne.shape =  (3775, 6)\n",
      "No of unique listeners =  2522\n"
     ]
    }
   ],
   "source": [
    "kayne = song_data.filter_by('Kanye West', 'artist')\n",
    "print \"kayne.shape = \", kayne.shape\n",
    "#print kayne.head(5)\n",
    "print \"No of unique listeners = \", len(set(kayne['user_id']))"
   ]
  },
  {
   "cell_type": "code",
   "execution_count": 5,
   "metadata": {
    "collapsed": false
   },
   "outputs": [
    {
     "name": "stdout",
     "output_type": "stream",
     "text": [
      "fooFighters.shape =  (3429, 6)\n",
      "No of unique listeners =  2055\n"
     ]
    }
   ],
   "source": [
    "fooFighters = song_data.filter_by('Foo Fighters', 'artist')\n",
    "print \"fooFighters.shape = \", fooFighters.shape\n",
    "print \"No of unique listeners = \", len(set(fooFighters['user_id']))"
   ]
  },
  {
   "cell_type": "code",
   "execution_count": 6,
   "metadata": {
    "collapsed": false
   },
   "outputs": [
    {
     "name": "stdout",
     "output_type": "stream",
     "text": [
      "taylorSwift.shape =  (6227, 6)\n",
      "No of unique listeners =  3246\n"
     ]
    }
   ],
   "source": [
    "taylorSwift = song_data.filter_by('Taylor Swift', 'artist')\n",
    "print \"taylorSwift.shape = \", taylorSwift.shape\n",
    "print \"No of unique listeners = \", len(set(taylorSwift['user_id']))"
   ]
  },
  {
   "cell_type": "code",
   "execution_count": 7,
   "metadata": {
    "collapsed": false
   },
   "outputs": [
    {
     "name": "stdout",
     "output_type": "stream",
     "text": [
      "ladyGaGa.shape =  (4129, 6)\n",
      "No of unique listeners =  2928\n"
     ]
    }
   ],
   "source": [
    "ladyGaGa = song_data.filter_by('Lady GaGa', 'artist')\n",
    "print \"ladyGaGa.shape = \", ladyGaGa.shape\n",
    "print \"No of unique listeners = \", len(set(ladyGaGa['user_id']))"
   ]
  },
  {
   "cell_type": "markdown",
   "metadata": {},
   "source": [
    "Q1: answer = 'Taylor Swift' has the most unique listener."
   ]
  },
  {
   "cell_type": "markdown",
   "metadata": {},
   "source": [
    "Q2. Which of the artists below is the most popular artist, the one with highest total listen_count, in the data set?"
   ]
  },
  {
   "cell_type": "code",
   "execution_count": 8,
   "metadata": {
    "collapsed": false
   },
   "outputs": [
    {
     "data": {
      "text/plain": [
       "(0, 6)"
      ]
     },
     "execution_count": 8,
     "metadata": {},
     "output_type": "execute_result"
    }
   ],
   "source": [
    "song_data.filter_by('Kings of Leon', 'artist').shape\n",
    "#NB 'Kings of Leon' did not have any rows in song_data"
   ]
  },
  {
   "cell_type": "code",
   "execution_count": 9,
   "metadata": {
    "collapsed": false
   },
   "outputs": [
    {
     "name": "stdout",
     "output_type": "stream",
     "text": [
      "19376\n",
      "0\n",
      "35362\n",
      "12224\n"
     ]
    }
   ],
   "source": [
    "print song_data.filter_by('Taylor Swift', 'artist')['listen_count'].sum()\n",
    "print song_data.filter_by('Kings of Leon', 'artist')['listen_count'].sum()\n",
    "print song_data.filter_by('Coldplay', 'artist')['listen_count'].sum()\n",
    "print song_data.filter_by('Lady GaGa', 'artist')['listen_count'].sum()"
   ]
  },
  {
   "cell_type": "markdown",
   "metadata": {},
   "source": [
    "Q2 : Answer = Coldplay with 35362 total listens."
   ]
  },
  {
   "cell_type": "markdown",
   "metadata": {},
   "source": [
    "Q3. Which of the artists below is the least popular artist, the one with smallest total listen_count, in the data set?"
   ]
  },
  {
   "cell_type": "code",
   "execution_count": 10,
   "metadata": {
    "collapsed": false
   },
   "outputs": [
    {
     "name": "stdout",
     "output_type": "stream",
     "text": [
      "14\n",
      "80\n",
      "9992\n",
      "73\n"
     ]
    }
   ],
   "source": [
    "print song_data.filter_by('William Tabbert', 'artist')['listen_count'].sum()\n",
    "print song_data.filter_by('Velvet Underground & Nico', 'artist')['listen_count'].sum()\n",
    "print song_data.filter_by('Kanye West', 'artist')['listen_count'].sum()\n",
    "print song_data.filter_by('The Cool Kids', 'artist')['listen_count'].sum()"
   ]
  },
  {
   "cell_type": "markdown",
   "metadata": {},
   "source": [
    "Q3: Answer : 'William Tabbert' with 14 users.\n",
    "Q4 : Using the first 10,000 unique users only in the test data, use the personalized_model learned on the training data to recommend 1 song to each user. What’s the most recommended song?\n",
    "\n",
    "steps\n",
    "1. create list of first 10,000 unique users from the test data.\n",
    "2. subset the test_data using this list of the first 10,000 unique users\n",
    "3. reccommend 1 song for each user, using the personalized_model.\n",
    "4. identify the most reccomended song."
   ]
  },
  {
   "cell_type": "code",
   "execution_count": 11,
   "metadata": {
    "collapsed": false
   },
   "outputs": [
    {
     "name": "stdout",
     "output_type": "stream",
     "text": [
      "<class 'graphlab.data_structures.sframe.SFrame'> (893580, 6)\n"
     ]
    }
   ],
   "source": [
    "train_data,test_data = song_data.random_split(.8,seed=0)\n",
    "#NB: seed=0 makes this repeatable.\n",
    "print type(train_data), train_data.shape"
   ]
  },
  {
   "cell_type": "code",
   "execution_count": 31,
   "metadata": {
    "collapsed": false
   },
   "outputs": [
    {
     "name": "stdout",
     "output_type": "stream",
     "text": [
      "len(uniqueIDs) =  0 \n",
      "type(uniqueIDs) =  <type 'list'>\n",
      "len(uniqueIDs) =  100\n"
     ]
    }
   ],
   "source": [
    "usersReqd = 100 #use smaller value during dev, production value should be 10000\n",
    "uniqueIDs = []\n",
    "print \"len(uniqueIDs) = \", len(uniqueIDs), \"\\ntype(uniqueIDs) = \", type(uniqueIDs)\n",
    "\n",
    "counter = 0\n",
    "uniques = 0\n",
    "while uniques < usersReqd:\n",
    "    userID = train_data[counter]['user_id']\n",
    "    counter += 1\n",
    "    if userID not in uniqueIDs:\n",
    "        uniqueIDs.append(userID)\n",
    "        uniques += 1\n",
    "        #print \"added userID=\", userID, \" to the set, uniques=\", uniques\n",
    "    #else:\n",
    "        #print \"userID=\", userID, \" not added to set.\"\n",
    "    #print \"len(uniqueIDs) = \", len(uniqueIDs)\n",
    "print \"len(uniqueIDs) = \", len(uniqueIDs)"
   ]
  },
  {
   "cell_type": "code",
   "execution_count": 32,
   "metadata": {
    "collapsed": true
   },
   "outputs": [],
   "source": [
    "firstUniques = train_data.filter_by(uniqueIDs, 'user_id')"
   ]
  },
  {
   "cell_type": "code",
   "execution_count": 33,
   "metadata": {
    "collapsed": false
   },
   "outputs": [
    {
     "data": {
      "text/plain": [
       "(1347, 6)"
      ]
     },
     "execution_count": 33,
     "metadata": {},
     "output_type": "execute_result"
    }
   ],
   "source": [
    "firstUniques.shape"
   ]
  },
  {
   "cell_type": "code",
   "execution_count": 36,
   "metadata": {
    "collapsed": false
   },
   "outputs": [
    {
     "data": {
      "text/html": [
       "<pre>Recsys training: model = item_similarity</pre>"
      ],
      "text/plain": [
       "Recsys training: model = item_similarity"
      ]
     },
     "metadata": {},
     "output_type": "display_data"
    },
    {
     "data": {
      "text/html": [
       "<pre>Warning: Ignoring columns song_id, listen_count, title, artist;</pre>"
      ],
      "text/plain": [
       "Warning: Ignoring columns song_id, listen_count, title, artist;"
      ]
     },
     "metadata": {},
     "output_type": "display_data"
    },
    {
     "data": {
      "text/html": [
       "<pre>    To use one of these as a target column, set target = <column_name></pre>"
      ],
      "text/plain": [
       "    To use one of these as a target column, set target = <column_name>"
      ]
     },
     "metadata": {},
     "output_type": "display_data"
    },
    {
     "data": {
      "text/html": [
       "<pre>    and use a method that allows the use of a target.</pre>"
      ],
      "text/plain": [
       "    and use a method that allows the use of a target."
      ]
     },
     "metadata": {},
     "output_type": "display_data"
    },
    {
     "data": {
      "text/html": [
       "<pre>Preparing data set.</pre>"
      ],
      "text/plain": [
       "Preparing data set."
      ]
     },
     "metadata": {},
     "output_type": "display_data"
    },
    {
     "data": {
      "text/html": [
       "<pre>    Data has 1347 observations with 100 users and 1136 items.</pre>"
      ],
      "text/plain": [
       "    Data has 1347 observations with 100 users and 1136 items."
      ]
     },
     "metadata": {},
     "output_type": "display_data"
    },
    {
     "data": {
      "text/html": [
       "<pre>    Data prepared in: 0.008007s</pre>"
      ],
      "text/plain": [
       "    Data prepared in: 0.008007s"
      ]
     },
     "metadata": {},
     "output_type": "display_data"
    },
    {
     "data": {
      "text/html": [
       "<pre>Training model from provided data.</pre>"
      ],
      "text/plain": [
       "Training model from provided data."
      ]
     },
     "metadata": {},
     "output_type": "display_data"
    },
    {
     "data": {
      "text/html": [
       "<pre>Gathering per-item and per-user statistics.</pre>"
      ],
      "text/plain": [
       "Gathering per-item and per-user statistics."
      ]
     },
     "metadata": {},
     "output_type": "display_data"
    },
    {
     "data": {
      "text/html": [
       "<pre>+--------------------------------+------------+</pre>"
      ],
      "text/plain": [
       "+--------------------------------+------------+"
      ]
     },
     "metadata": {},
     "output_type": "display_data"
    },
    {
     "name": "stdout",
     "output_type": "stream",
     "text": [
      "--- time to graphlab.item_similarity_recommender.create =  0.0190000534058 seconds ---\n"
     ]
    },
    {
     "data": {
      "text/html": [
       "<pre>| Elapsed Time (Item Statistics) | % Complete |</pre>"
      ],
      "text/plain": [
       "| Elapsed Time (Item Statistics) | % Complete |"
      ]
     },
     "metadata": {},
     "output_type": "display_data"
    },
    {
     "data": {
      "text/html": [
       "<pre>+--------------------------------+------------+</pre>"
      ],
      "text/plain": [
       "+--------------------------------+------------+"
      ]
     },
     "metadata": {},
     "output_type": "display_data"
    },
    {
     "data": {
      "text/html": [
       "<pre>| 0us                            | 100        |</pre>"
      ],
      "text/plain": [
       "| 0us                            | 100        |"
      ]
     },
     "metadata": {},
     "output_type": "display_data"
    },
    {
     "data": {
      "text/html": [
       "<pre>+--------------------------------+------------+</pre>"
      ],
      "text/plain": [
       "+--------------------------------+------------+"
      ]
     },
     "metadata": {},
     "output_type": "display_data"
    },
    {
     "data": {
      "text/html": [
       "<pre>Setting up lookup tables.</pre>"
      ],
      "text/plain": [
       "Setting up lookup tables."
      ]
     },
     "metadata": {},
     "output_type": "display_data"
    },
    {
     "data": {
      "text/html": [
       "<pre>Processing data in one pass using dense lookup tables.</pre>"
      ],
      "text/plain": [
       "Processing data in one pass using dense lookup tables."
      ]
     },
     "metadata": {},
     "output_type": "display_data"
    },
    {
     "data": {
      "text/html": [
       "<pre>+-------------------------------------+------------------+-----------------+</pre>"
      ],
      "text/plain": [
       "+-------------------------------------+------------------+-----------------+"
      ]
     },
     "metadata": {},
     "output_type": "display_data"
    },
    {
     "data": {
      "text/html": [
       "<pre>| Elapsed Time (Constructing Lookups) | Total % Complete | Items Processed |</pre>"
      ],
      "text/plain": [
       "| Elapsed Time (Constructing Lookups) | Total % Complete | Items Processed |"
      ]
     },
     "metadata": {},
     "output_type": "display_data"
    },
    {
     "data": {
      "text/html": [
       "<pre>+-------------------------------------+------------------+-----------------+</pre>"
      ],
      "text/plain": [
       "+-------------------------------------+------------------+-----------------+"
      ]
     },
     "metadata": {},
     "output_type": "display_data"
    },
    {
     "data": {
      "text/html": [
       "<pre>| 2.002ms                             | 0.75             | 9               |</pre>"
      ],
      "text/plain": [
       "| 2.002ms                             | 0.75             | 9               |"
      ]
     },
     "metadata": {},
     "output_type": "display_data"
    },
    {
     "data": {
      "text/html": [
       "<pre>| 7.006ms                             | 100              | 1136            |</pre>"
      ],
      "text/plain": [
       "| 7.006ms                             | 100              | 1136            |"
      ]
     },
     "metadata": {},
     "output_type": "display_data"
    },
    {
     "data": {
      "text/html": [
       "<pre>+-------------------------------------+------------------+-----------------+</pre>"
      ],
      "text/plain": [
       "+-------------------------------------+------------------+-----------------+"
      ]
     },
     "metadata": {},
     "output_type": "display_data"
    },
    {
     "data": {
      "text/html": [
       "<pre>Finalizing lookup tables.</pre>"
      ],
      "text/plain": [
       "Finalizing lookup tables."
      ]
     },
     "metadata": {},
     "output_type": "display_data"
    },
    {
     "data": {
      "text/html": [
       "<pre>Generating candidate set for working with new users.</pre>"
      ],
      "text/plain": [
       "Generating candidate set for working with new users."
      ]
     },
     "metadata": {},
     "output_type": "display_data"
    },
    {
     "data": {
      "text/html": [
       "<pre>Finished training in 0.008008s</pre>"
      ],
      "text/plain": [
       "Finished training in 0.008008s"
      ]
     },
     "metadata": {},
     "output_type": "display_data"
    }
   ],
   "source": [
    "start_time = time.time()\n",
    "personalized_model = graphlab.item_similarity_recommender.create(firstUniques, user_id='user_id', item_id='song')\n",
    "print(\"--- time to graphlab.item_similarity_recommender.create =  %s seconds ---\" % (time.time() - start_time))"
   ]
  },
  {
   "cell_type": "code",
   "execution_count": 41,
   "metadata": {
    "collapsed": false
   },
   "outputs": [
    {
     "name": "stdout",
     "output_type": "stream",
     "text": [
      "uniqueIDs[0] =  b80344d063b5ccb3212f76538f3d9e43d87dca9e\n",
      "<class 'graphlab.toolkits.recommender.item_similarity_recommender.ItemSimilarityRecommender'>\n"
     ]
    },
    {
     "data": {
      "text/html": [
       "<div style=\"max-height:1000px;max-width:1500px;overflow:auto;\"><table frame=\"box\" rules=\"cols\">\n",
       "    <tr>\n",
       "        <th style=\"padding-left: 1em; padding-right: 1em; text-align: center\">user_id</th>\n",
       "        <th style=\"padding-left: 1em; padding-right: 1em; text-align: center\">song</th>\n",
       "        <th style=\"padding-left: 1em; padding-right: 1em; text-align: center\">score</th>\n",
       "        <th style=\"padding-left: 1em; padding-right: 1em; text-align: center\">rank</th>\n",
       "    </tr>\n",
       "    <tr>\n",
       "        <td style=\"padding-left: 1em; padding-right: 1em; text-align: center; vertical-align: top\">85c1f87fea955d09b4bec2e36<br>aee110927aedf9a ...</td>\n",
       "        <td style=\"padding-left: 1em; padding-right: 1em; text-align: center; vertical-align: top\">Fireflies - Charttraxx<br>Karaoke ...</td>\n",
       "        <td style=\"padding-left: 1em; padding-right: 1em; text-align: center; vertical-align: top\">0.138047616482</td>\n",
       "        <td style=\"padding-left: 1em; padding-right: 1em; text-align: center; vertical-align: top\">1</td>\n",
       "    </tr>\n",
       "</table>\n",
       "[1 rows x 4 columns]<br/>\n",
       "</div>"
      ],
      "text/plain": [
       "Columns:\n",
       "\tuser_id\tstr\n",
       "\tsong\tstr\n",
       "\tscore\tfloat\n",
       "\trank\tint\n",
       "\n",
       "Rows: 1\n",
       "\n",
       "Data:\n",
       "+-------------------------------+--------------------------------+\n",
       "|            user_id            |              song              |\n",
       "+-------------------------------+--------------------------------+\n",
       "| 85c1f87fea955d09b4bec2e36a... | Fireflies - Charttraxx Karaoke |\n",
       "+-------------------------------+--------------------------------+\n",
       "+----------------+------+\n",
       "|     score      | rank |\n",
       "+----------------+------+\n",
       "| 0.138047616482 |  1   |\n",
       "+----------------+------+\n",
       "[1 rows x 4 columns]"
      ]
     },
     "execution_count": 41,
     "metadata": {},
     "output_type": "execute_result"
    }
   ],
   "source": [
    "print \"uniqueIDs[0] = \", uniqueIDs[0]\n",
    "print type(personalized_model)\n",
    "personalized_model.recommend(users=[uniqueIDs[0]], k=1)\n",
    "personalized_model.recommend(users=[uniqueIDs[1]], k=1)"
   ]
  },
  {
   "cell_type": "code",
   "execution_count": null,
   "metadata": {
    "collapsed": true
   },
   "outputs": [],
   "source": []
  }
 ],
 "metadata": {
  "kernelspec": {
   "display_name": "Python 2",
   "language": "python",
   "name": "python2"
  },
  "language_info": {
   "codemirror_mode": {
    "name": "ipython",
    "version": 2
   },
   "file_extension": ".py",
   "mimetype": "text/x-python",
   "name": "python",
   "nbconvert_exporter": "python",
   "pygments_lexer": "ipython2",
   "version": "2.7.11"
  }
 },
 "nbformat": 4,
 "nbformat_minor": 0
}
