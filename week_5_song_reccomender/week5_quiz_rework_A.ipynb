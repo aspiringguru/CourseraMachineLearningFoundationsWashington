{
 "cells": [
  {
   "cell_type": "code",
   "execution_count": 1,
   "metadata": {
    "collapsed": false
   },
   "outputs": [],
   "source": [
    "#graphlab.get_dependencies()"
   ]
  },
  {
   "cell_type": "code",
   "execution_count": 2,
   "metadata": {
    "collapsed": false
   },
   "outputs": [
    {
     "name": "stdout",
     "output_type": "stream",
     "text": [
      "---------------------\n"
     ]
    }
   ],
   "source": [
    "print \"---------------------\"\n",
    "import graphlab"
   ]
  },
  {
   "cell_type": "code",
   "execution_count": 3,
   "metadata": {
    "collapsed": false
   },
   "outputs": [
    {
     "name": "stderr",
     "output_type": "stream",
     "text": [
      "[INFO] graphlab.cython.cy_server: GraphLab Create v2.1 started. Logging: C:\\Users\\bmt\\AppData\\Local\\Temp\\graphlab_server_1480218185.log.0\n"
     ]
    },
    {
     "name": "stdout",
     "output_type": "stream",
     "text": [
      "This non-commercial license of GraphLab Create for academic use is assigned to bmatthewtaylor@gmail.com and will expire on October 27, 2017.\n",
      "+-------------------------------+--------------------+--------------+\n",
      "|            user_id            |      song_id       | listen_count |\n",
      "+-------------------------------+--------------------+--------------+\n",
      "| b80344d063b5ccb3212f76538f... | SOAKIMP12A8C130995 |      1       |\n",
      "| b80344d063b5ccb3212f76538f... | SOBBMDR12A8C13253B |      2       |\n",
      "| b80344d063b5ccb3212f76538f... | SOBXHDL12A81C204C0 |      1       |\n",
      "+-------------------------------+--------------------+--------------+\n",
      "+-----------------+---------------+-------------------------------+\n",
      "|      title      |     artist    |              song             |\n",
      "+-----------------+---------------+-------------------------------+\n",
      "|     The Cove    |  Jack Johnson |    The Cove - Jack Johnson    |\n",
      "| Entre Dos Aguas | Paco De Lucia | Entre Dos Aguas - Paco De ... |\n",
      "|     Stronger    |   Kanye West  |     Stronger - Kanye West     |\n",
      "+-----------------+---------------+-------------------------------+\n",
      "[3 rows x 6 columns]\n",
      "\n"
     ]
    }
   ],
   "source": [
    "song_data = graphlab.SFrame('../data/song_data.gl/')\n",
    "print song_data.head(3)"
   ]
  },
  {
   "cell_type": "code",
   "execution_count": 4,
   "metadata": {
    "collapsed": false
   },
   "outputs": [
    {
     "name": "stdout",
     "output_type": "stream",
     "text": [
      "<class 'graphlab.data_structures.sframe.SFrame'> (3775, 6)\n",
      "No of unique listeners =  2522\n",
      "<class 'graphlab.data_structures.sarray.SArray'> 3775\n",
      "No of unique users =  2522\n"
     ]
    }
   ],
   "source": [
    "kanye = song_data.filter_by('Kanye West', 'artist')\n",
    "print type(kanye), kanye.shape\n",
    "#print kanye.head(1)\n",
    "print  \"No of unique listeners = \", len(set(kanye['user_id']))\n",
    "users = kanye['user_id']\n",
    "print type(users), len(users)\n",
    "import graphlab.aggregate as agg\n",
    "user_summary = kanye.groupby(key_columns='user_id', operations={'user_id-sum': agg.COUNT()})\n",
    "print  \"No of unique users = \",user_summary.shape[0]\n"
   ]
  },
  {
   "cell_type": "code",
   "execution_count": 5,
   "metadata": {
    "collapsed": false
   },
   "outputs": [
    {
     "name": "stdout",
     "output_type": "stream",
     "text": [
      "fooFighters.shape =  (3429, 6)\n",
      "No of unique listeners =  2055\n",
      "<class 'graphlab.data_structures.sarray.SArray'> 3429\n",
      "No of unique users =  2055\n"
     ]
    }
   ],
   "source": [
    "fooFighters = song_data.filter_by('Foo Fighters', 'artist')\n",
    "print \"fooFighters.shape = \", fooFighters.shape\n",
    "print \"No of unique listeners = \", len(set(fooFighters['user_id']))\n",
    "users = fooFighters['user_id']\n",
    "print type(users), len(users)\n",
    "import graphlab.aggregate as agg\n",
    "user_summary = fooFighters.groupby(key_columns='user_id', operations={'user_id-sum': agg.COUNT()})\n",
    "print  \"No of unique users = \",user_summary.shape[0]\n"
   ]
  },
  {
   "cell_type": "code",
   "execution_count": 6,
   "metadata": {
    "collapsed": false
   },
   "outputs": [
    {
     "name": "stdout",
     "output_type": "stream",
     "text": [
      "taylorSwift.shape =  (6227, 6)\n",
      "No of unique listeners =  3246\n",
      "<class 'graphlab.data_structures.sarray.SArray'> 6227\n",
      "No of unique users =  3246\n"
     ]
    }
   ],
   "source": [
    "taylorSwift = song_data.filter_by('Taylor Swift', 'artist')\n",
    "print \"taylorSwift.shape = \", taylorSwift.shape\n",
    "print \"No of unique listeners = \", len(set(taylorSwift['user_id']))\n",
    "users = taylorSwift['user_id']\n",
    "print type(users), len(users)\n",
    "import graphlab.aggregate as agg\n",
    "user_summary = taylorSwift.groupby(key_columns='user_id', operations={'user_id-sum': agg.COUNT()})\n",
    "print  \"No of unique users = \",user_summary.shape[0]\n"
   ]
  },
  {
   "cell_type": "code",
   "execution_count": 7,
   "metadata": {
    "collapsed": false
   },
   "outputs": [
    {
     "name": "stdout",
     "output_type": "stream",
     "text": [
      "ladyGaga.shape =  (4129, 6)\n",
      "No of unique listeners =  2928\n",
      "<class 'graphlab.data_structures.sarray.SArray'> 4129\n",
      "No of unique users =  2928\n"
     ]
    }
   ],
   "source": [
    "ladyGaga = song_data.filter_by('Lady GaGa', 'artist')\n",
    "print \"ladyGaga.shape = \", ladyGaga.shape\n",
    "print \"No of unique listeners = \", len(set(ladyGaga['user_id']))\n",
    "users = ladyGaga['user_id']\n",
    "print type(users), len(users)\n",
    "import graphlab.aggregate as agg\n",
    "user_summary = ladyGaga.groupby(key_columns='user_id', operations={'user_id-sum': agg.COUNT()})\n",
    "print  \"No of unique users = \",user_summary.shape[0]\n"
   ]
  },
  {
   "cell_type": "markdown",
   "metadata": {},
   "source": [
    "subset dataframe by rows with 'artist' = artist name\n",
    "count unique user_id - use set since easier than operating on list.\n",
    "Kanye West    = 2522\n",
    "Foo Fighters  = 2055\n",
    "Taylor Swift  = 3246  [ANSWER = most popular = most unique users]\n",
    "Lady GaGa     = 2928"
   ]
  },
  {
   "cell_type": "code",
   "execution_count": 8,
   "metadata": {
    "collapsed": false
   },
   "outputs": [
    {
     "name": "stdout",
     "output_type": "stream",
     "text": [
      "Taylor Swift\t\t19376\n",
      "Kings of Leon\t\t0\n",
      "Coldplay\t\t35362\n",
      "Lady GaGa\t\t12224\n"
     ]
    }
   ],
   "source": [
    "print 'Taylor Swift\\t\\t', song_data.filter_by('Taylor Swift', 'artist')['listen_count'].sum()\n",
    "print 'Kings of Leon\\t\\t', song_data.filter_by('Kings of Leon', 'artist')['listen_count'].sum()\n",
    "print 'Coldplay\\t\\t', song_data.filter_by('Coldplay', 'artist')['listen_count'].sum()\n",
    "print 'Lady GaGa\\t\\t', song_data.filter_by('Lady GaGa', 'artist')['listen_count'].sum()"
   ]
  },
  {
   "cell_type": "code",
   "execution_count": 9,
   "metadata": {
    "collapsed": false
   },
   "outputs": [
    {
     "name": "stdout",
     "output_type": "stream",
     "text": [
      "William Tabbert\t\t\t14\n",
      "Velvet Underground & Nico\t80\n",
      "Kanye West\t\t\t9992\n",
      "The Cool Kids\t\t\t73\n"
     ]
    }
   ],
   "source": [
    "print 'William Tabbert\\t\\t\\t', song_data.filter_by('William Tabbert', 'artist')['listen_count'].sum()\n",
    "print 'Velvet Underground & Nico\\t', song_data.filter_by('Velvet Underground & Nico', 'artist')['listen_count'].sum()\n",
    "print 'Kanye West\\t\\t\\t', song_data.filter_by('Kanye West', 'artist')['listen_count'].sum()\n",
    "print 'The Cool Kids\\t\\t\\t', song_data.filter_by('The Cool Kids', 'artist')['listen_count'].sum()"
   ]
  },
  {
   "cell_type": "code",
   "execution_count": 25,
   "metadata": {
    "collapsed": false
   },
   "outputs": [
    {
     "name": "stdout",
     "output_type": "stream",
     "text": [
      "<class 'graphlab.data_structures.sframe.SFrame'> (39, 6)\n"
     ]
    }
   ],
   "source": [
    "temp = song_data.filter_by('The Cool Kids', 'artist')\n",
    "print type(temp), temp.shape"
   ]
  },
  {
   "cell_type": "code",
   "execution_count": 26,
   "metadata": {
    "collapsed": false
   },
   "outputs": [
    {
     "name": "stdout",
     "output_type": "stream",
     "text": [
      "[1L, 4L, 1L, 4L, 1L, 1L, 1L, 7L, 1L, 3L]\n",
      "73\n"
     ]
    }
   ],
   "source": [
    "print temp['listen_count'].head(10)\n",
    "print temp['listen_count'].sum()"
   ]
  },
  {
   "cell_type": "code",
   "execution_count": null,
   "metadata": {
    "collapsed": true
   },
   "outputs": [],
   "source": []
  }
 ],
 "metadata": {
  "kernelspec": {
   "display_name": "Python 2",
   "language": "python",
   "name": "python2"
  },
  "language_info": {
   "codemirror_mode": {
    "name": "ipython",
    "version": 2
   },
   "file_extension": ".py",
   "mimetype": "text/x-python",
   "name": "python",
   "nbconvert_exporter": "python",
   "pygments_lexer": "ipython2",
   "version": "2.7.11"
  }
 },
 "nbformat": 4,
 "nbformat_minor": 0
}
