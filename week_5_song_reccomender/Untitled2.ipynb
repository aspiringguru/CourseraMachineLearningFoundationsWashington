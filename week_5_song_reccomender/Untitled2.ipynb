{
 "cells": [
  {
   "cell_type": "code",
   "execution_count": 5,
   "metadata": {
    "collapsed": false
   },
   "outputs": [
    {
     "name": "stdout",
     "output_type": "stream",
     "text": [
      "---------------\n",
      "<type 'list'>\n",
      "['blue', 'red', 'blue', 'yellow', 'blue', 'red']\n",
      "<class 'collections.Counter'>\n",
      "Counter({'blue': 3, 'red': 2, 'yellow': 1})\n",
      "[('blue', 3), ('red', 2)]\n"
     ]
    }
   ],
   "source": [
    "from collections import Counter\n",
    "print \"---------------\"\n",
    "z = ['blue', 'red', 'blue', 'yellow', 'blue', 'red']\n",
    "print (type(z))\n",
    "print z\n",
    "CounterZ = Counter(z)\n",
    "print type(CounterZ)\n",
    "print (CounterZ)\n",
    "print CounterZ.most_common(2)"
   ]
  },
  {
   "cell_type": "code",
   "execution_count": null,
   "metadata": {
    "collapsed": true
   },
   "outputs": [],
   "source": []
  }
 ],
 "metadata": {
  "kernelspec": {
   "display_name": "Python 2",
   "language": "python",
   "name": "python2"
  },
  "language_info": {
   "codemirror_mode": {
    "name": "ipython",
    "version": 2
   },
   "file_extension": ".py",
   "mimetype": "text/x-python",
   "name": "python",
   "nbconvert_exporter": "python",
   "pygments_lexer": "ipython2",
   "version": "2.7.11"
  }
 },
 "nbformat": 4,
 "nbformat_minor": 0
}
