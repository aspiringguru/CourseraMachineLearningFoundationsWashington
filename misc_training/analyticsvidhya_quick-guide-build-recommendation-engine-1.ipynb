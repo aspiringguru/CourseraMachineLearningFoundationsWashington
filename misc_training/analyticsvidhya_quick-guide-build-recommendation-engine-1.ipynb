{
 "cells": [
  {
   "cell_type": "code",
   "execution_count": 1,
   "metadata": {
    "collapsed": true
   },
   "outputs": [],
   "source": [
    "import pandas as pd\n",
    "u_cols = ['user_id', 'age', 'sex', 'occupation', 'zip_code']"
   ]
  },
  {
   "cell_type": "code",
   "execution_count": 4,
   "metadata": {
    "collapsed": false
   },
   "outputs": [
    {
     "name": "stdout",
     "output_type": "stream",
     "text": [
      "<class 'pandas.core.frame.DataFrame'> (943, 5)\n"
     ]
    }
   ],
   "source": [
    "users = pd.read_csv('../data/movielens/u.user', sep='|', names=u_cols, encoding='latin-1')\n",
    "print type(users), users.shape"
   ]
  },
  {
   "cell_type": "code",
   "execution_count": 15,
   "metadata": {
    "collapsed": false
   },
   "outputs": [
    {
     "name": "stdout",
     "output_type": "stream",
     "text": [
      "<class 'pandas.core.frame.DataFrame'> (943, 5)\n"
     ]
    }
   ],
   "source": [
    "#Reading users file:\n",
    "u_cols = ['user_id', 'age', 'sex', 'occupation', 'zip_code']\n",
    "users = pd.read_csv('../data/movielens/u.user', sep='|', names=u_cols, encoding='latin-1')\n",
    "print type(users), users.shape"
   ]
  },
  {
   "cell_type": "code",
   "execution_count": 3,
   "metadata": {
    "collapsed": false
   },
   "outputs": [
    {
     "name": "stdout",
     "output_type": "stream",
     "text": [
      "<class 'pandas.core.frame.DataFrame'> (100000, 4)\n"
     ]
    }
   ],
   "source": [
    "#Reading ratings file:\n",
    "r_cols = ['user_id', 'movie_id', 'rating', 'unix_timestamp']\n",
    "ratings = pd.read_csv('../data/movielens/u.data', sep='\\t', names=r_cols, encoding='latin-1')\n",
    "print type(ratings), ratings.shape"
   ]
  },
  {
   "cell_type": "code",
   "execution_count": 5,
   "metadata": {
    "collapsed": false
   },
   "outputs": [
    {
     "name": "stdout",
     "output_type": "stream",
     "text": [
      "   user_id  movie_id  rating  unix_timestamp\n",
      "0      196       242       3       881250949\n",
      "1      186       302       3       891717742\n",
      "2       22       377       1       878887116\n"
     ]
    }
   ],
   "source": [
    "print ratings.head(3)"
   ]
  },
  {
   "cell_type": "code",
   "execution_count": 9,
   "metadata": {
    "collapsed": false
   },
   "outputs": [
    {
     "name": "stdout",
     "output_type": "stream",
     "text": [
      "<class 'pandas.core.frame.DataFrame'> (1682, 24)\n",
      "   movie id        movie title release date  video release date  \\\n",
      "0         1   Toy Story (1995)  01-Jan-1995                 NaN   \n",
      "1         2   GoldenEye (1995)  01-Jan-1995                 NaN   \n",
      "2         3  Four Rooms (1995)  01-Jan-1995                 NaN   \n",
      "\n",
      "                                            IMDb URL  unknown  Action  \\\n",
      "0  http://us.imdb.com/M/title-exact?Toy%20Story%2...        0       0   \n",
      "1  http://us.imdb.com/M/title-exact?GoldenEye%20(...        0       1   \n",
      "2  http://us.imdb.com/M/title-exact?Four%20Rooms%...        0       0   \n",
      "\n",
      "   Adventure  Animation  Children's   ...     Fantasy  Film-Noir  Horror  \\\n",
      "0          0          1           1   ...           0          0       0   \n",
      "1          1          0           0   ...           0          0       0   \n",
      "2          0          0           0   ...           0          0       0   \n",
      "\n",
      "   Musical  Mystery  Romance  Sci-Fi  Thriller  War  Western  \n",
      "0        0        0        0       0         0    0        0  \n",
      "1        0        0        0       0         1    0        0  \n",
      "2        0        0        0       0         1    0        0  \n",
      "\n",
      "[3 rows x 24 columns]\n"
     ]
    }
   ],
   "source": [
    "#Reading items file:\n",
    "i_cols = ['movie id', 'movie title' ,'release date','video release date', 'IMDb URL', 'unknown', 'Action', 'Adventure',\n",
    " 'Animation', 'Children\\'s', 'Comedy', 'Crime', 'Documentary', 'Drama', 'Fantasy',\n",
    " 'Film-Noir', 'Horror', 'Musical', 'Mystery', 'Romance', 'Sci-Fi', 'Thriller', 'War', 'Western']\n",
    "items = pd.read_csv('../data/movielens/u.item', sep='|', names=i_cols, encoding='latin-1')\n",
    "print type(items), items.shape\n",
    "print items.head(3)"
   ]
  },
  {
   "cell_type": "code",
   "execution_count": 16,
   "metadata": {
    "collapsed": false
   },
   "outputs": [
    {
     "name": "stdout",
     "output_type": "stream",
     "text": [
      "['user_id', 'movie_id', 'rating', 'unix_timestamp']\n"
     ]
    }
   ],
   "source": [
    "print r_cols"
   ]
  },
  {
   "cell_type": "code",
   "execution_count": 18,
   "metadata": {
    "collapsed": false
   },
   "outputs": [
    {
     "name": "stdout",
     "output_type": "stream",
     "text": [
      "ratings_base.shape= (90570, 4) ratings_test.shape (9430, 4)\n"
     ]
    }
   ],
   "source": [
    "ratings_base = pd.read_csv('../data/movielens/ua.base', sep='\\t', names=r_cols, encoding='latin-1')\n",
    "ratings_test = pd.read_csv('../data/movielens/ua.test', sep='\\t', names=r_cols, encoding='latin-1')\n",
    "print \"ratings_base.shape=\", ratings_base.shape, \"ratings_test.shape\", ratings_test.shape"
   ]
  },
  {
   "cell_type": "code",
   "execution_count": 19,
   "metadata": {
    "collapsed": false
   },
   "outputs": [
    {
     "name": "stdout",
     "output_type": "stream",
     "text": [
      "This non-commercial license of GraphLab Create for academic use is assigned to bmatthewtaylor@gmail.com and will expire on October 27, 2017.\n"
     ]
    },
    {
     "name": "stderr",
     "output_type": "stream",
     "text": [
      "[INFO] graphlab.cython.cy_server: GraphLab Create v2.1 started. Logging: Z:\\WINTEMP\\graphlab_server_1478911388.log.0\n"
     ]
    }
   ],
   "source": [
    "import graphlab"
   ]
  },
  {
   "cell_type": "code",
   "execution_count": 22,
   "metadata": {
    "collapsed": false
   },
   "outputs": [
    {
     "name": "stdout",
     "output_type": "stream",
     "text": [
      "<class 'graphlab.data_structures.sframe.SFrame'> (90570, 4)\n",
      "<class 'graphlab.data_structures.sframe.SFrame'> (9430, 4)\n"
     ]
    }
   ],
   "source": [
    "train_data = graphlab.SFrame(ratings_base)\n",
    "test_data = graphlab.SFrame(ratings_test)\n",
    "print type(train_data), train_data.shape\n",
    "print type(test_data), test_data.shape"
   ]
  },
  {
   "cell_type": "code",
   "execution_count": 24,
   "metadata": {
    "collapsed": false
   },
   "outputs": [
    {
     "name": "stdout",
     "output_type": "stream",
     "text": [
      "+---------+----------+--------+----------------+\n",
      "| user_id | movie_id | rating | unix_timestamp |\n",
      "+---------+----------+--------+----------------+\n",
      "|    1    |    1     |   5    |   874965758    |\n",
      "|    1    |    2     |   3    |   876893171    |\n",
      "|    1    |    3     |   4    |   878542960    |\n",
      "+---------+----------+--------+----------------+\n",
      "[3 rows x 4 columns]\n",
      "\n"
     ]
    }
   ],
   "source": [
    "print train_data.head(3)"
   ]
  },
  {
   "cell_type": "code",
   "execution_count": 31,
   "metadata": {
    "collapsed": false
   },
   "outputs": [
    {
     "name": "stdout",
     "output_type": "stream",
     "text": [
      "unique user_id's in train_data =  943\n",
      "unique movie_id's in train_data =  1680\n",
      "unique rating in train_data =  5\n"
     ]
    }
   ],
   "source": [
    "print \"unique user_id's in train_data = \", len(set(train_data['user_id']))\n",
    "print \"unique movie_id's in train_data = \", len(set(train_data['movie_id']))\n",
    "print \"unique rating in train_data = \", len(set(train_data['rating']))"
   ]
  },
  {
   "cell_type": "code",
   "execution_count": 23,
   "metadata": {
    "collapsed": false
   },
   "outputs": [
    {
     "data": {
      "text/html": [
       "<pre>Recsys training: model = popularity</pre>"
      ],
      "text/plain": [
       "Recsys training: model = popularity"
      ]
     },
     "metadata": {},
     "output_type": "display_data"
    },
    {
     "data": {
      "text/html": [
       "<pre>Warning: Ignoring columns unix_timestamp;</pre>"
      ],
      "text/plain": [
       "Warning: Ignoring columns unix_timestamp;"
      ]
     },
     "metadata": {},
     "output_type": "display_data"
    },
    {
     "data": {
      "text/html": [
       "<pre>    To use these columns in scoring predictions, use a model that allows the use of additional features.</pre>"
      ],
      "text/plain": [
       "    To use these columns in scoring predictions, use a model that allows the use of additional features."
      ]
     },
     "metadata": {},
     "output_type": "display_data"
    },
    {
     "data": {
      "text/html": [
       "<pre>Preparing data set.</pre>"
      ],
      "text/plain": [
       "Preparing data set."
      ]
     },
     "metadata": {},
     "output_type": "display_data"
    },
    {
     "data": {
      "text/html": [
       "<pre>    Data has 90570 observations with 943 users and 1680 items.</pre>"
      ],
      "text/plain": [
       "    Data has 90570 observations with 943 users and 1680 items."
      ]
     },
     "metadata": {},
     "output_type": "display_data"
    },
    {
     "data": {
      "text/html": [
       "<pre>    Data prepared in: 0.113653s</pre>"
      ],
      "text/plain": [
       "    Data prepared in: 0.113653s"
      ]
     },
     "metadata": {},
     "output_type": "display_data"
    },
    {
     "data": {
      "text/html": [
       "<pre>90570 observations to process; with 1680 unique items.</pre>"
      ],
      "text/plain": [
       "90570 observations to process; with 1680 unique items."
      ]
     },
     "metadata": {},
     "output_type": "display_data"
    }
   ],
   "source": [
    "popularity_model = graphlab.popularity_recommender.create(train_data, user_id='user_id', \n",
    "                                                          item_id='movie_id', target='rating')\n",
    "#https://turi.com/products/create/docs/generated/graphlab.recommender.popularity_recommender.create.html\n",
    "#"
   ]
  },
  {
   "cell_type": "code",
   "execution_count": 37,
   "metadata": {
    "collapsed": false
   },
   "outputs": [
    {
     "name": "stdout",
     "output_type": "stream",
     "text": [
      "type(popularity_model) <class 'graphlab.toolkits.recommender.popularity_recommender.PopularityRecommender'>\n",
      "type(popularity_recomm)= <class 'graphlab.data_structures.sframe.SFrame'> (25, 4)\n",
      "+---------+----------+-------+------+\n",
      "| user_id | movie_id | score | rank |\n",
      "+---------+----------+-------+------+\n",
      "|    1    |   1293   |  5.0  |  1   |\n",
      "|    1    |   1201   |  5.0  |  2   |\n",
      "|    1    |   1189   |  5.0  |  3   |\n",
      "|    1    |   1122   |  5.0  |  4   |\n",
      "|    1    |   814    |  5.0  |  5   |\n",
      "|    2    |   1293   |  5.0  |  1   |\n",
      "|    2    |   1201   |  5.0  |  2   |\n",
      "|    2    |   1189   |  5.0  |  3   |\n",
      "|    2    |   1122   |  5.0  |  4   |\n",
      "|    2    |   814    |  5.0  |  5   |\n",
      "|    3    |   1293   |  5.0  |  1   |\n",
      "|    3    |   1201   |  5.0  |  2   |\n",
      "|    3    |   1189   |  5.0  |  3   |\n",
      "|    3    |   1122   |  5.0  |  4   |\n",
      "|    3    |   814    |  5.0  |  5   |\n",
      "|    4    |   1293   |  5.0  |  1   |\n",
      "|    4    |   1201   |  5.0  |  2   |\n",
      "|    4    |   1189   |  5.0  |  3   |\n",
      "|    4    |   1122   |  5.0  |  4   |\n",
      "|    4    |   814    |  5.0  |  5   |\n",
      "|    5    |   1293   |  5.0  |  1   |\n",
      "|    5    |   1201   |  5.0  |  2   |\n",
      "|    5    |   1189   |  5.0  |  3   |\n",
      "|    5    |   1122   |  5.0  |  4   |\n",
      "|    5    |   814    |  5.0  |  5   |\n",
      "+---------+----------+-------+------+\n",
      "[25 rows x 4 columns]\n",
      "\n"
     ]
    }
   ],
   "source": [
    "#Get recommendations for first 5 users and print them\n",
    "#users = range(1,6) specifies user ID of first 5 users\n",
    "#k=5 specifies top 5 recommendations to be given\n",
    "print \"type(popularity_model)\", type(popularity_model)\n",
    "popularity_recomm = popularity_model.recommend(users=range(1,6),k=5)\n",
    "print \"type(popularity_recomm)=\", type(popularity_recomm), popularity_recomm.shape\n",
    "popularity_recomm.print_rows(num_rows=25)"
   ]
  },
  {
   "cell_type": "markdown",
   "metadata": {},
   "source": [
    "NB: the reccomendations made above are the same for all users.\n",
    "checking the movies with highest mean recommendations in our ratings_base data set:\n"
   ]
  },
  {
   "cell_type": "code",
   "execution_count": 42,
   "metadata": {
    "collapsed": false
   },
   "outputs": [
    {
     "name": "stdout",
     "output_type": "stream",
     "text": [
      "<class 'pandas.core.frame.DataFrame'>\n"
     ]
    },
    {
     "data": {
      "text/plain": [
       "movie_id\n",
       "1500    5.000000\n",
       "1293    5.000000\n",
       "1122    5.000000\n",
       "1189    5.000000\n",
       "1656    5.000000\n",
       "1201    5.000000\n",
       "1599    5.000000\n",
       "814     5.000000\n",
       "1467    5.000000\n",
       "1536    5.000000\n",
       "1449    4.714286\n",
       "1642    4.500000\n",
       "1463    4.500000\n",
       "1594    4.500000\n",
       "1398    4.500000\n",
       "114     4.491525\n",
       "408     4.480769\n",
       "169     4.476636\n",
       "318     4.475836\n",
       "483     4.459821\n",
       "Name: rating, dtype: float64"
      ]
     },
     "execution_count": 42,
     "metadata": {},
     "output_type": "execute_result"
    }
   ],
   "source": [
    "print type(ratings_base)\n",
    "#http://pandas.pydata.org/pandas-docs/stable/groupby.html\n",
    "#group by 'movie_id', extract column 'rating' calc mean, then sort descending order, top 20 only.\n",
    "ratings_base.groupby(by='movie_id')['rating'].mean().sort_values(ascending=False).head(20)"
   ]
  },
  {
   "cell_type": "markdown",
   "metadata": {},
   "source": [
    "so we see above, the selector system picked the most popular movies, but not neccessarily the best movie for each viewer as the same movies were reccomended for everyone.\n",
    "\n",
    "There are 3 types of item similarity metrics supported by graphlab. \n",
    "1. Jaccard Similarity\n",
    "2. Cosine Similarity\n",
    "3. Pearson Similarity\n"
   ]
  },
  {
   "cell_type": "code",
   "execution_count": 61,
   "metadata": {
    "collapsed": false
   },
   "outputs": [
    {
     "data": {
      "text/html": [
       "<pre>Recsys training: model = item_similarity</pre>"
      ],
      "text/plain": [
       "Recsys training: model = item_similarity"
      ]
     },
     "metadata": {},
     "output_type": "display_data"
    },
    {
     "data": {
      "text/html": [
       "<pre>Warning: Ignoring columns unix_timestamp;</pre>"
      ],
      "text/plain": [
       "Warning: Ignoring columns unix_timestamp;"
      ]
     },
     "metadata": {},
     "output_type": "display_data"
    },
    {
     "data": {
      "text/html": [
       "<pre>    To use these columns in scoring predictions, use a model that allows the use of additional features.</pre>"
      ],
      "text/plain": [
       "    To use these columns in scoring predictions, use a model that allows the use of additional features."
      ]
     },
     "metadata": {},
     "output_type": "display_data"
    },
    {
     "data": {
      "text/html": [
       "<pre>Preparing data set.</pre>"
      ],
      "text/plain": [
       "Preparing data set."
      ]
     },
     "metadata": {},
     "output_type": "display_data"
    },
    {
     "data": {
      "text/html": [
       "<pre>    Data has 90570 observations with 943 users and 1680 items.</pre>"
      ],
      "text/plain": [
       "    Data has 90570 observations with 943 users and 1680 items."
      ]
     },
     "metadata": {},
     "output_type": "display_data"
    },
    {
     "data": {
      "text/html": [
       "<pre>    Data prepared in: 0.063059s</pre>"
      ],
      "text/plain": [
       "    Data prepared in: 0.063059s"
      ]
     },
     "metadata": {},
     "output_type": "display_data"
    },
    {
     "data": {
      "text/html": [
       "<pre>Training model from provided data.</pre>"
      ],
      "text/plain": [
       "Training model from provided data."
      ]
     },
     "metadata": {},
     "output_type": "display_data"
    },
    {
     "data": {
      "text/html": [
       "<pre>Gathering per-item and per-user statistics.</pre>"
      ],
      "text/plain": [
       "Gathering per-item and per-user statistics."
      ]
     },
     "metadata": {},
     "output_type": "display_data"
    },
    {
     "data": {
      "text/html": [
       "<pre>+--------------------------------+------------+</pre>"
      ],
      "text/plain": [
       "+--------------------------------+------------+"
      ]
     },
     "metadata": {},
     "output_type": "display_data"
    },
    {
     "data": {
      "text/html": [
       "<pre>| Elapsed Time (Item Statistics) | % Complete |</pre>"
      ],
      "text/plain": [
       "| Elapsed Time (Item Statistics) | % Complete |"
      ]
     },
     "metadata": {},
     "output_type": "display_data"
    },
    {
     "data": {
      "text/html": [
       "<pre>+--------------------------------+------------+</pre>"
      ],
      "text/plain": [
       "+--------------------------------+------------+"
      ]
     },
     "metadata": {},
     "output_type": "display_data"
    },
    {
     "data": {
      "text/html": [
       "<pre>| 2.003ms                        | 100        |</pre>"
      ],
      "text/plain": [
       "| 2.003ms                        | 100        |"
      ]
     },
     "metadata": {},
     "output_type": "display_data"
    },
    {
     "data": {
      "text/html": [
       "<pre>+--------------------------------+------------+</pre>"
      ],
      "text/plain": [
       "+--------------------------------+------------+"
      ]
     },
     "metadata": {},
     "output_type": "display_data"
    },
    {
     "data": {
      "text/html": [
       "<pre>Setting up lookup tables.</pre>"
      ],
      "text/plain": [
       "Setting up lookup tables."
      ]
     },
     "metadata": {},
     "output_type": "display_data"
    },
    {
     "data": {
      "text/html": [
       "<pre>Processing data in one pass using dense lookup tables.</pre>"
      ],
      "text/plain": [
       "Processing data in one pass using dense lookup tables."
      ]
     },
     "metadata": {},
     "output_type": "display_data"
    },
    {
     "data": {
      "text/html": [
       "<pre>+-------------------------------------+------------------+-----------------+</pre>"
      ],
      "text/plain": [
       "+-------------------------------------+------------------+-----------------+"
      ]
     },
     "metadata": {},
     "output_type": "display_data"
    },
    {
     "data": {
      "text/html": [
       "<pre>| Elapsed Time (Constructing Lookups) | Total % Complete | Items Processed |</pre>"
      ],
      "text/plain": [
       "| Elapsed Time (Constructing Lookups) | Total % Complete | Items Processed |"
      ]
     },
     "metadata": {},
     "output_type": "display_data"
    },
    {
     "data": {
      "text/html": [
       "<pre>+-------------------------------------+------------------+-----------------+</pre>"
      ],
      "text/plain": [
       "+-------------------------------------+------------------+-----------------+"
      ]
     },
     "metadata": {},
     "output_type": "display_data"
    },
    {
     "data": {
      "text/html": [
       "<pre>| 5.006ms                             | 0.25             | 6               |</pre>"
      ],
      "text/plain": [
       "| 5.006ms                             | 0.25             | 6               |"
      ]
     },
     "metadata": {},
     "output_type": "display_data"
    },
    {
     "data": {
      "text/html": [
       "<pre>| 234.226ms                           | 100              | 1680            |</pre>"
      ],
      "text/plain": [
       "| 234.226ms                           | 100              | 1680            |"
      ]
     },
     "metadata": {},
     "output_type": "display_data"
    },
    {
     "data": {
      "text/html": [
       "<pre>+-------------------------------------+------------------+-----------------+</pre>"
      ],
      "text/plain": [
       "+-------------------------------------+------------------+-----------------+"
      ]
     },
     "metadata": {},
     "output_type": "display_data"
    },
    {
     "data": {
      "text/html": [
       "<pre>Finalizing lookup tables.</pre>"
      ],
      "text/plain": [
       "Finalizing lookup tables."
      ]
     },
     "metadata": {},
     "output_type": "display_data"
    },
    {
     "data": {
      "text/html": [
       "<pre>Generating candidate set for working with new users.</pre>"
      ],
      "text/plain": [
       "Generating candidate set for working with new users."
      ]
     },
     "metadata": {},
     "output_type": "display_data"
    },
    {
     "data": {
      "text/html": [
       "<pre>Finished training in 0.236228s</pre>"
      ],
      "text/plain": [
       "Finished training in 0.236228s"
      ]
     },
     "metadata": {},
     "output_type": "display_data"
    }
   ],
   "source": [
    "#previous model for reference. did not use similarity_type='pearson'\n",
    "#popularity_model = graphlab.popularity_recommender.create(train_data, user_id='user_id', \n",
    "#                                                          item_id='movie_id', target='rating')\n",
    "\n",
    "#Train Model\n",
    "item_sim_modelPearson = graphlab.item_similarity_recommender.create(train_data, user_id='user_id', item_id='movie_id', target='rating', similarity_type='pearson')\n",
    "#https://turi.com/products/create/docs/graphlab.toolkits.recommender.html\n",
    "#https://turi.com/products/create/docs/generated/graphlab.recommender.item_similarity_recommender.create.html#graphlab.recommender.item_similarity_recommender.create\n",
    "#NB: similarity_type : {‘jaccard’, ‘cosine’, ‘pearson’}, optional\n"
   ]
  },
  {
   "cell_type": "code",
   "execution_count": 62,
   "metadata": {
    "collapsed": false
   },
   "outputs": [
    {
     "name": "stdout",
     "output_type": "stream",
     "text": [
      "<class 'graphlab.toolkits.recommender.item_similarity_recommender.ItemSimilarityRecommender'>\n",
      "<class 'graphlab.data_structures.sframe.SFrame'> (25, 4)\n",
      "+---------+----------+-------+------+\n",
      "| user_id | movie_id | score | rank |\n",
      "+---------+----------+-------+------+\n",
      "|    1    |   1500   |  5.0  |  1   |\n",
      "|    1    |   1201   |  5.0  |  2   |\n",
      "|    1    |   1189   |  5.0  |  3   |\n",
      "|    1    |   1122   |  5.0  |  4   |\n",
      "|    1    |   814    |  5.0  |  5   |\n",
      "|    2    |   1500   |  5.0  |  1   |\n",
      "|    2    |   1201   |  5.0  |  2   |\n",
      "|    2    |   1189   |  5.0  |  3   |\n",
      "|    2    |   1122   |  5.0  |  4   |\n",
      "|    2    |   814    |  5.0  |  5   |\n",
      "|    3    |   1500   |  5.0  |  1   |\n",
      "|    3    |   1201   |  5.0  |  2   |\n",
      "|    3    |   1189   |  5.0  |  3   |\n",
      "|    3    |   1122   |  5.0  |  4   |\n",
      "|    3    |   814    |  5.0  |  5   |\n",
      "|    4    |   1500   |  5.0  |  1   |\n",
      "|    4    |   1201   |  5.0  |  2   |\n",
      "|    4    |   1189   |  5.0  |  3   |\n",
      "|    4    |   1122   |  5.0  |  4   |\n",
      "|    4    |   814    |  5.0  |  5   |\n",
      "|    5    |   1500   |  5.0  |  1   |\n",
      "|    5    |   1201   |  5.0  |  2   |\n",
      "|    5    |   1189   |  5.0  |  3   |\n",
      "|    5    |   1122   |  5.0  |  4   |\n",
      "|    5    |   814    |  5.0  |  5   |\n",
      "+---------+----------+-------+------+\n",
      "[25 rows x 4 columns]\n",
      "\n"
     ]
    }
   ],
   "source": [
    "#Make Recommendations:\n",
    "print type(item_sim_modelPearson)\n",
    "item_sim_recomm = item_sim_modelPearson.recommend(users=range(1,6),k=5)\n",
    "print type(item_sim_recomm), item_sim_recomm.shape\n",
    "item_sim_recomm.print_rows(num_rows=25)"
   ]
  },
  {
   "cell_type": "markdown",
   "metadata": {},
   "source": [
    "NB: the reccomendations made above are the same for all users."
   ]
  },
  {
   "cell_type": "code",
   "execution_count": 57,
   "metadata": {
    "collapsed": false
   },
   "outputs": [
    {
     "data": {
      "text/html": [
       "<pre>Recsys training: model = item_similarity</pre>"
      ],
      "text/plain": [
       "Recsys training: model = item_similarity"
      ]
     },
     "metadata": {},
     "output_type": "display_data"
    },
    {
     "data": {
      "text/html": [
       "<pre>Warning: Ignoring columns unix_timestamp;</pre>"
      ],
      "text/plain": [
       "Warning: Ignoring columns unix_timestamp;"
      ]
     },
     "metadata": {},
     "output_type": "display_data"
    },
    {
     "data": {
      "text/html": [
       "<pre>    To use these columns in scoring predictions, use a model that allows the use of additional features.</pre>"
      ],
      "text/plain": [
       "    To use these columns in scoring predictions, use a model that allows the use of additional features."
      ]
     },
     "metadata": {},
     "output_type": "display_data"
    },
    {
     "data": {
      "text/html": [
       "<pre>Preparing data set.</pre>"
      ],
      "text/plain": [
       "Preparing data set."
      ]
     },
     "metadata": {},
     "output_type": "display_data"
    },
    {
     "data": {
      "text/html": [
       "<pre>    Data has 90570 observations with 943 users and 1680 items.</pre>"
      ],
      "text/plain": [
       "    Data has 90570 observations with 943 users and 1680 items."
      ]
     },
     "metadata": {},
     "output_type": "display_data"
    },
    {
     "data": {
      "text/html": [
       "<pre>    Data prepared in: 0.057053s</pre>"
      ],
      "text/plain": [
       "    Data prepared in: 0.057053s"
      ]
     },
     "metadata": {},
     "output_type": "display_data"
    },
    {
     "data": {
      "text/html": [
       "<pre>Training model from provided data.</pre>"
      ],
      "text/plain": [
       "Training model from provided data."
      ]
     },
     "metadata": {},
     "output_type": "display_data"
    },
    {
     "data": {
      "text/html": [
       "<pre>Gathering per-item and per-user statistics.</pre>"
      ],
      "text/plain": [
       "Gathering per-item and per-user statistics."
      ]
     },
     "metadata": {},
     "output_type": "display_data"
    },
    {
     "data": {
      "text/html": [
       "<pre>+--------------------------------+------------+</pre>"
      ],
      "text/plain": [
       "+--------------------------------+------------+"
      ]
     },
     "metadata": {},
     "output_type": "display_data"
    },
    {
     "data": {
      "text/html": [
       "<pre>| Elapsed Time (Item Statistics) | % Complete |</pre>"
      ],
      "text/plain": [
       "| Elapsed Time (Item Statistics) | % Complete |"
      ]
     },
     "metadata": {},
     "output_type": "display_data"
    },
    {
     "data": {
      "text/html": [
       "<pre>+--------------------------------+------------+</pre>"
      ],
      "text/plain": [
       "+--------------------------------+------------+"
      ]
     },
     "metadata": {},
     "output_type": "display_data"
    },
    {
     "data": {
      "text/html": [
       "<pre>| 1ms                            | 100        |</pre>"
      ],
      "text/plain": [
       "| 1ms                            | 100        |"
      ]
     },
     "metadata": {},
     "output_type": "display_data"
    },
    {
     "data": {
      "text/html": [
       "<pre>+--------------------------------+------------+</pre>"
      ],
      "text/plain": [
       "+--------------------------------+------------+"
      ]
     },
     "metadata": {},
     "output_type": "display_data"
    },
    {
     "data": {
      "text/html": [
       "<pre>Setting up lookup tables.</pre>"
      ],
      "text/plain": [
       "Setting up lookup tables."
      ]
     },
     "metadata": {},
     "output_type": "display_data"
    },
    {
     "data": {
      "text/html": [
       "<pre>Processing data in one pass using dense lookup tables.</pre>"
      ],
      "text/plain": [
       "Processing data in one pass using dense lookup tables."
      ]
     },
     "metadata": {},
     "output_type": "display_data"
    },
    {
     "data": {
      "text/html": [
       "<pre>+-------------------------------------+------------------+-----------------+</pre>"
      ],
      "text/plain": [
       "+-------------------------------------+------------------+-----------------+"
      ]
     },
     "metadata": {},
     "output_type": "display_data"
    },
    {
     "data": {
      "text/html": [
       "<pre>| Elapsed Time (Constructing Lookups) | Total % Complete | Items Processed |</pre>"
      ],
      "text/plain": [
       "| Elapsed Time (Constructing Lookups) | Total % Complete | Items Processed |"
      ]
     },
     "metadata": {},
     "output_type": "display_data"
    },
    {
     "data": {
      "text/html": [
       "<pre>+-------------------------------------+------------------+-----------------+</pre>"
      ],
      "text/plain": [
       "+-------------------------------------+------------------+-----------------+"
      ]
     },
     "metadata": {},
     "output_type": "display_data"
    },
    {
     "data": {
      "text/html": [
       "<pre>| 22.02ms                             | 0                | 0               |</pre>"
      ],
      "text/plain": [
       "| 22.02ms                             | 0                | 0               |"
      ]
     },
     "metadata": {},
     "output_type": "display_data"
    },
    {
     "data": {
      "text/html": [
       "<pre>| 77.073ms                            | 100              | 1680            |</pre>"
      ],
      "text/plain": [
       "| 77.073ms                            | 100              | 1680            |"
      ]
     },
     "metadata": {},
     "output_type": "display_data"
    },
    {
     "data": {
      "text/html": [
       "<pre>+-------------------------------------+------------------+-----------------+</pre>"
      ],
      "text/plain": [
       "+-------------------------------------+------------------+-----------------+"
      ]
     },
     "metadata": {},
     "output_type": "display_data"
    },
    {
     "data": {
      "text/html": [
       "<pre>Finalizing lookup tables.</pre>"
      ],
      "text/plain": [
       "Finalizing lookup tables."
      ]
     },
     "metadata": {},
     "output_type": "display_data"
    },
    {
     "data": {
      "text/html": [
       "<pre>Generating candidate set for working with new users.</pre>"
      ],
      "text/plain": [
       "Generating candidate set for working with new users."
      ]
     },
     "metadata": {},
     "output_type": "display_data"
    },
    {
     "data": {
      "text/html": [
       "<pre>Finished training in 0.103099s</pre>"
      ],
      "text/plain": [
       "Finished training in 0.103099s"
      ]
     },
     "metadata": {},
     "output_type": "display_data"
    }
   ],
   "source": [
    "item_sim_modelCosine = graphlab.item_similarity_recommender.create(train_data, user_id='user_id', \n",
    "                                                             item_id='movie_id', target='rating', similarity_type='cosine')"
   ]
  },
  {
   "cell_type": "code",
   "execution_count": 60,
   "metadata": {
    "collapsed": false
   },
   "outputs": [
    {
     "name": "stdout",
     "output_type": "stream",
     "text": [
      "<class 'graphlab.toolkits.recommender.item_similarity_recommender.ItemSimilarityRecommender'>\n",
      "<class 'graphlab.data_structures.sframe.SFrame'> (25, 4)\n",
      "+---------+----------+----------------+------+\n",
      "| user_id | movie_id |     score      | rank |\n",
      "+---------+----------+----------------+------+\n",
      "|    1    |   423    | 0.985032851232 |  1   |\n",
      "|    1    |   202    | 0.938785915839 |  2   |\n",
      "|    1    |   655    | 0.812296543868 |  3   |\n",
      "|    1    |   403    | 0.762677106694 |  4   |\n",
      "|    1    |   568    | 0.747601848295 |  5   |\n",
      "|    2    |    50    | 1.12562584877  |  1   |\n",
      "|    2    |   181    | 1.06517731685  |  2   |\n",
      "|    2    |   121    | 0.968032550353 |  3   |\n",
      "|    2    |    7     | 0.818084523082 |  4   |\n",
      "|    2    |   117    | 0.792605129572 |  5   |\n",
      "|    3    |   313    | 0.635376662016 |  1   |\n",
      "|    3    |   328    | 0.603288030083 |  2   |\n",
      "|    3    |   315    | 0.542258712378 |  3   |\n",
      "|    3    |   331    | 0.535507185893 |  4   |\n",
      "|    3    |   332    | 0.531669611281 |  5   |\n",
      "|    4    |    50    | 1.13114770821  |  1   |\n",
      "|    4    |   288    | 1.04871511459  |  2   |\n",
      "|    4    |   181    | 0.950599938631 |  3   |\n",
      "|    4    |   302    | 0.913902146476 |  4   |\n",
      "|    4    |   121    | 0.899338160242 |  5   |\n",
      "|    5    |   195    | 1.02443243879  |  1   |\n",
      "|    5    |   202    | 0.935359946887 |  2   |\n",
      "|    5    |    56    | 0.840750767607 |  3   |\n",
      "|    5    |    82    | 0.808734436469 |  4   |\n",
      "|    5    |    96    | 0.745950029113 |  5   |\n",
      "+---------+----------+----------------+------+\n",
      "[25 rows x 4 columns]\n",
      "\n"
     ]
    }
   ],
   "source": [
    "#Make Recommendations:\n",
    "print type(item_sim_modelCosine)\n",
    "item_sim_recomm = item_sim_modelCosine.recommend(users=range(1,6),k=5)\n",
    "print type(item_sim_recomm), item_sim_recomm.shape\n",
    "item_sim_recomm.print_rows(num_rows=25)\n",
    "#NB results are different for each user."
   ]
  },
  {
   "cell_type": "code",
   "execution_count": 63,
   "metadata": {
    "collapsed": false
   },
   "outputs": [
    {
     "data": {
      "text/html": [
       "<pre>Recsys training: model = item_similarity</pre>"
      ],
      "text/plain": [
       "Recsys training: model = item_similarity"
      ]
     },
     "metadata": {},
     "output_type": "display_data"
    },
    {
     "data": {
      "text/html": [
       "<pre>Warning: Ignoring columns unix_timestamp;</pre>"
      ],
      "text/plain": [
       "Warning: Ignoring columns unix_timestamp;"
      ]
     },
     "metadata": {},
     "output_type": "display_data"
    },
    {
     "data": {
      "text/html": [
       "<pre>    To use these columns in scoring predictions, use a model that allows the use of additional features.</pre>"
      ],
      "text/plain": [
       "    To use these columns in scoring predictions, use a model that allows the use of additional features."
      ]
     },
     "metadata": {},
     "output_type": "display_data"
    },
    {
     "data": {
      "text/html": [
       "<pre>Preparing data set.</pre>"
      ],
      "text/plain": [
       "Preparing data set."
      ]
     },
     "metadata": {},
     "output_type": "display_data"
    },
    {
     "data": {
      "text/html": [
       "<pre>    Data has 90570 observations with 943 users and 1680 items.</pre>"
      ],
      "text/plain": [
       "    Data has 90570 observations with 943 users and 1680 items."
      ]
     },
     "metadata": {},
     "output_type": "display_data"
    },
    {
     "data": {
      "text/html": [
       "<pre>    Data prepared in: 0.058057s</pre>"
      ],
      "text/plain": [
       "    Data prepared in: 0.058057s"
      ]
     },
     "metadata": {},
     "output_type": "display_data"
    },
    {
     "data": {
      "text/html": [
       "<pre>Training model from provided data.</pre>"
      ],
      "text/plain": [
       "Training model from provided data."
      ]
     },
     "metadata": {},
     "output_type": "display_data"
    },
    {
     "data": {
      "text/html": [
       "<pre>Gathering per-item and per-user statistics.</pre>"
      ],
      "text/plain": [
       "Gathering per-item and per-user statistics."
      ]
     },
     "metadata": {},
     "output_type": "display_data"
    },
    {
     "data": {
      "text/html": [
       "<pre>+--------------------------------+------------+</pre>"
      ],
      "text/plain": [
       "+--------------------------------+------------+"
      ]
     },
     "metadata": {},
     "output_type": "display_data"
    },
    {
     "data": {
      "text/html": [
       "<pre>| Elapsed Time (Item Statistics) | % Complete |</pre>"
      ],
      "text/plain": [
       "| Elapsed Time (Item Statistics) | % Complete |"
      ]
     },
     "metadata": {},
     "output_type": "display_data"
    },
    {
     "data": {
      "text/html": [
       "<pre>+--------------------------------+------------+</pre>"
      ],
      "text/plain": [
       "+--------------------------------+------------+"
      ]
     },
     "metadata": {},
     "output_type": "display_data"
    },
    {
     "data": {
      "text/html": [
       "<pre>| 2.002ms                        | 100        |</pre>"
      ],
      "text/plain": [
       "| 2.002ms                        | 100        |"
      ]
     },
     "metadata": {},
     "output_type": "display_data"
    },
    {
     "data": {
      "text/html": [
       "<pre>+--------------------------------+------------+</pre>"
      ],
      "text/plain": [
       "+--------------------------------+------------+"
      ]
     },
     "metadata": {},
     "output_type": "display_data"
    },
    {
     "data": {
      "text/html": [
       "<pre>Setting up lookup tables.</pre>"
      ],
      "text/plain": [
       "Setting up lookup tables."
      ]
     },
     "metadata": {},
     "output_type": "display_data"
    },
    {
     "data": {
      "text/html": [
       "<pre>Processing data in one pass using dense lookup tables.</pre>"
      ],
      "text/plain": [
       "Processing data in one pass using dense lookup tables."
      ]
     },
     "metadata": {},
     "output_type": "display_data"
    },
    {
     "data": {
      "text/html": [
       "<pre>+-------------------------------------+------------------+-----------------+</pre>"
      ],
      "text/plain": [
       "+-------------------------------------+------------------+-----------------+"
      ]
     },
     "metadata": {},
     "output_type": "display_data"
    },
    {
     "data": {
      "text/html": [
       "<pre>| Elapsed Time (Constructing Lookups) | Total % Complete | Items Processed |</pre>"
      ],
      "text/plain": [
       "| Elapsed Time (Constructing Lookups) | Total % Complete | Items Processed |"
      ]
     },
     "metadata": {},
     "output_type": "display_data"
    },
    {
     "data": {
      "text/html": [
       "<pre>+-------------------------------------+------------------+-----------------+</pre>"
      ],
      "text/plain": [
       "+-------------------------------------+------------------+-----------------+"
      ]
     },
     "metadata": {},
     "output_type": "display_data"
    },
    {
     "data": {
      "text/html": [
       "<pre>| 7.007ms                             | 0.25             | 6               |</pre>"
      ],
      "text/plain": [
       "| 7.007ms                             | 0.25             | 6               |"
      ]
     },
     "metadata": {},
     "output_type": "display_data"
    },
    {
     "data": {
      "text/html": [
       "<pre>| 87.083ms                            | 100              | 1680            |</pre>"
      ],
      "text/plain": [
       "| 87.083ms                            | 100              | 1680            |"
      ]
     },
     "metadata": {},
     "output_type": "display_data"
    },
    {
     "data": {
      "text/html": [
       "<pre>+-------------------------------------+------------------+-----------------+</pre>"
      ],
      "text/plain": [
       "+-------------------------------------+------------------+-----------------+"
      ]
     },
     "metadata": {},
     "output_type": "display_data"
    },
    {
     "data": {
      "text/html": [
       "<pre>Finalizing lookup tables.</pre>"
      ],
      "text/plain": [
       "Finalizing lookup tables."
      ]
     },
     "metadata": {},
     "output_type": "display_data"
    },
    {
     "data": {
      "text/html": [
       "<pre>Generating candidate set for working with new users.</pre>"
      ],
      "text/plain": [
       "Generating candidate set for working with new users."
      ]
     },
     "metadata": {},
     "output_type": "display_data"
    },
    {
     "data": {
      "text/html": [
       "<pre>Finished training in 0.093089s</pre>"
      ],
      "text/plain": [
       "Finished training in 0.093089s"
      ]
     },
     "metadata": {},
     "output_type": "display_data"
    }
   ],
   "source": [
    "item_sim_modelJaccard = graphlab.item_similarity_recommender.create(train_data, user_id='user_id', \n",
    "                                                             item_id='movie_id', target='rating', similarity_type='jaccard')"
   ]
  },
  {
   "cell_type": "code",
   "execution_count": 65,
   "metadata": {
    "collapsed": false
   },
   "outputs": [
    {
     "name": "stdout",
     "output_type": "stream",
     "text": [
      "<class 'graphlab.toolkits.recommender.item_similarity_recommender.ItemSimilarityRecommender'>\n",
      "<class 'graphlab.data_structures.sframe.SFrame'> (25, 4)\n",
      "+---------+----------+-----------------+------+\n",
      "| user_id | movie_id |      score      | rank |\n",
      "+---------+----------+-----------------+------+\n",
      "|    1    |   423    |  0.165171662587 |  1   |\n",
      "|    1    |   568    |  0.15632043358  |  2   |\n",
      "|    1    |   202    |  0.152776431491 |  3   |\n",
      "|    1    |   403    |  0.149925559532 |  4   |\n",
      "|    1    |   385    |  0.147887746114 |  5   |\n",
      "|    2    |    7     |  0.16170423306  |  1   |\n",
      "|    2    |   121    |  0.159973624807 |  2   |\n",
      "|    2    |   181    |  0.157847735744 |  3   |\n",
      "|    2    |    50    |  0.156254000389 |  4   |\n",
      "|    2    |   117    |  0.154636738392 |  5   |\n",
      "|    3    |   328    |  0.124686544592 |  1   |\n",
      "|    3    |   313    |  0.101335969838 |  2   |\n",
      "|    3    |   332    |  0.101279365745 |  3   |\n",
      "|    3    |    12    |  0.10076934912  |  4   |\n",
      "|    3    |   245    | 0.0975412225181 |  5   |\n",
      "|    4    |   121    |  0.156088250024 |  1   |\n",
      "|    4    |    56    |  0.151944577694 |  2   |\n",
      "|    4    |   181    |  0.149083150285 |  3   |\n",
      "|    4    |   333    |  0.141388999564 |  4   |\n",
      "|    4    |    7     |  0.140319143023 |  5   |\n",
      "|    5    |    82    |  0.171644946301 |  1   |\n",
      "|    5    |   195    |  0.17119752855  |  2   |\n",
      "|    5    |   202    |  0.166261703679 |  3   |\n",
      "|    5    |   161    |  0.164122270815 |  4   |\n",
      "|    5    |   568    |  0.163463905363 |  5   |\n",
      "+---------+----------+-----------------+------+\n",
      "[25 rows x 4 columns]\n",
      "\n"
     ]
    }
   ],
   "source": [
    "#Make Recommendations:\n",
    "print type(item_sim_modelJaccard)\n",
    "item_sim_recomm = item_sim_modelJaccard.recommend(users=range(1,6),k=5)\n",
    "print type(item_sim_recomm), item_sim_recomm.shape\n",
    "item_sim_recomm.print_rows(num_rows=25)\n",
    "#NB results are different for each user."
   ]
  },
  {
   "cell_type": "code",
   "execution_count": null,
   "metadata": {
    "collapsed": true
   },
   "outputs": [],
   "source": []
  }
 ],
 "metadata": {
  "kernelspec": {
   "display_name": "Python 2",
   "language": "python",
   "name": "python2"
  },
  "language_info": {
   "codemirror_mode": {
    "name": "ipython",
    "version": 2
   },
   "file_extension": ".py",
   "mimetype": "text/x-python",
   "name": "python",
   "nbconvert_exporter": "python",
   "pygments_lexer": "ipython2",
   "version": "2.7.11"
  }
 },
 "nbformat": 4,
 "nbformat_minor": 0
}
