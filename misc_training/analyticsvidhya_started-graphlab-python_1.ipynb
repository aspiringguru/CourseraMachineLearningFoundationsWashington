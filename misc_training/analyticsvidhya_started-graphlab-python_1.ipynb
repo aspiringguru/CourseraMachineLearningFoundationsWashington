{
 "cells": [
  {
   "cell_type": "code",
   "execution_count": 1,
   "metadata": {
    "collapsed": true
   },
   "outputs": [],
   "source": [
    "import graphlab\n",
    "import pandas"
   ]
  },
  {
   "cell_type": "code",
   "execution_count": 3,
   "metadata": {
    "collapsed": false
   },
   "outputs": [
    {
     "data": {
      "text/html": [
       "<pre>Finished parsing file D:\\2015\\coding_projects\\Washington_ML Spec\\1-Machine Learning Foundations\\gitrepo\\data\\black_friday\\test.csv</pre>"
      ],
      "text/plain": [
       "Finished parsing file D:\\2015\\coding_projects\\Washington_ML Spec\\1-Machine Learning Foundations\\gitrepo\\data\\black_friday\\test.csv"
      ]
     },
     "metadata": {},
     "output_type": "display_data"
    },
    {
     "data": {
      "text/html": [
       "<pre>Parsing completed. Parsed 100 lines in 0.278261 secs.</pre>"
      ],
      "text/plain": [
       "Parsing completed. Parsed 100 lines in 0.278261 secs."
      ]
     },
     "metadata": {},
     "output_type": "display_data"
    },
    {
     "name": "stdout",
     "output_type": "stream",
     "text": [
      "------------------------------------------------------\n",
      "Inferred types from first 100 line(s) of file as \n",
      "column_type_hints=[long,str,str,str,long,str,str,long,long,long,long]\n",
      "If parsing fails due to incorrect types, you can correct\n",
      "the inferred type list above and pass it to read_csv in\n",
      "the column_type_hints argument\n",
      "------------------------------------------------------\n"
     ]
    },
    {
     "data": {
      "text/html": [
       "<pre>Finished parsing file D:\\2015\\coding_projects\\Washington_ML Spec\\1-Machine Learning Foundations\\gitrepo\\data\\black_friday\\test.csv</pre>"
      ],
      "text/plain": [
       "Finished parsing file D:\\2015\\coding_projects\\Washington_ML Spec\\1-Machine Learning Foundations\\gitrepo\\data\\black_friday\\test.csv"
      ]
     },
     "metadata": {},
     "output_type": "display_data"
    },
    {
     "data": {
      "text/html": [
       "<pre>Parsing completed. Parsed 233599 lines in 0.253798 secs.</pre>"
      ],
      "text/plain": [
       "Parsing completed. Parsed 233599 lines in 0.253798 secs."
      ]
     },
     "metadata": {},
     "output_type": "display_data"
    }
   ],
   "source": [
    "sf_test  = graphlab.SFrame('../data/black_friday/test.csv')"
   ]
  },
  {
   "cell_type": "code",
   "execution_count": 4,
   "metadata": {
    "collapsed": false
   },
   "outputs": [
    {
     "data": {
      "text/html": [
       "<pre>Finished parsing file D:\\2015\\coding_projects\\Washington_ML Spec\\1-Machine Learning Foundations\\gitrepo\\data\\black_friday\\train.csv</pre>"
      ],
      "text/plain": [
       "Finished parsing file D:\\2015\\coding_projects\\Washington_ML Spec\\1-Machine Learning Foundations\\gitrepo\\data\\black_friday\\train.csv"
      ]
     },
     "metadata": {},
     "output_type": "display_data"
    },
    {
     "data": {
      "text/html": [
       "<pre>Parsing completed. Parsed 100 lines in 0.596577 secs.</pre>"
      ],
      "text/plain": [
       "Parsing completed. Parsed 100 lines in 0.596577 secs."
      ]
     },
     "metadata": {},
     "output_type": "display_data"
    },
    {
     "name": "stdout",
     "output_type": "stream",
     "text": [
      "------------------------------------------------------\n",
      "Inferred types from first 100 line(s) of file as \n",
      "column_type_hints=[long,str,str,str,long,str,str,long,long,long,long,long]\n",
      "If parsing fails due to incorrect types, you can correct\n",
      "the inferred type list above and pass it to read_csv in\n",
      "the column_type_hints argument\n",
      "------------------------------------------------------\n"
     ]
    },
    {
     "data": {
      "text/html": [
       "<pre>Finished parsing file D:\\2015\\coding_projects\\Washington_ML Spec\\1-Machine Learning Foundations\\gitrepo\\data\\black_friday\\train.csv</pre>"
      ],
      "text/plain": [
       "Finished parsing file D:\\2015\\coding_projects\\Washington_ML Spec\\1-Machine Learning Foundations\\gitrepo\\data\\black_friday\\train.csv"
      ]
     },
     "metadata": {},
     "output_type": "display_data"
    },
    {
     "data": {
      "text/html": [
       "<pre>Parsing completed. Parsed 550068 lines in 0.652751 secs.</pre>"
      ],
      "text/plain": [
       "Parsing completed. Parsed 550068 lines in 0.652751 secs."
      ]
     },
     "metadata": {},
     "output_type": "display_data"
    }
   ],
   "source": [
    "sf_train = graphlab.SFrame('../data/black_friday/train.csv')"
   ]
  },
  {
   "cell_type": "code",
   "execution_count": 5,
   "metadata": {
    "collapsed": false
   },
   "outputs": [
    {
     "name": "stdout",
     "output_type": "stream",
     "text": [
      "<class 'graphlab.data_structures.sframe.SFrame'> (233599, 11)\n",
      "<class 'graphlab.data_structures.sframe.SFrame'> (550068, 12)\n"
     ]
    }
   ],
   "source": [
    "print type(sf_test), sf_test.shape\n",
    "print type(sf_train), sf_train.shape"
   ]
  },
  {
   "cell_type": "code",
   "execution_count": 8,
   "metadata": {
    "collapsed": false
   },
   "outputs": [
    {
     "name": "stdout",
     "output_type": "stream",
     "text": [
      "['User_ID', 'Product_ID', 'Gender', 'Age', 'Occupation', 'City_Category', 'Stay_In_Current_City_Years', 'Marital_Status', 'Product_Category_1', 'Product_Category_2', 'Product_Category_3', 'Purchase']\n",
      "+---------+------------+--------+------+------------+---------------+----------------------------+\n",
      "| User_ID | Product_ID | Gender | Age  | Occupation | City_Category | Stay_In_Current_City_Years |\n",
      "+---------+------------+--------+------+------------+---------------+----------------------------+\n",
      "| 1000001 | P00069042  |   F    | 0-17 |     10     |       A       |             2              |\n",
      "| 1000001 | P00248942  |   F    | 0-17 |     10     |       A       |             2              |\n",
      "| 1000001 | P00087842  |   F    | 0-17 |     10     |       A       |             2              |\n",
      "+---------+------------+--------+------+------------+---------------+----------------------------+\n",
      "+----------------+--------------------+--------------------+--------------------+\n",
      "| Marital_Status | Product_Category_1 | Product_Category_2 | Product_Category_3 |\n",
      "+----------------+--------------------+--------------------+--------------------+\n",
      "|       0        |         3          |        None        |        None        |\n",
      "|       0        |         1          |         6          |         14         |\n",
      "|       0        |         12         |        None        |        None        |\n",
      "+----------------+--------------------+--------------------+--------------------+\n",
      "+----------+\n",
      "| Purchase |\n",
      "+----------+\n",
      "|   8370   |\n",
      "|  15200   |\n",
      "|   1422   |\n",
      "+----------+\n",
      "[3 rows x 12 columns]\n",
      "\n"
     ]
    }
   ],
   "source": [
    "print sf_train.column_names()\n",
    "print sf_train.head(3)"
   ]
  },
  {
   "cell_type": "code",
   "execution_count": 9,
   "metadata": {
    "collapsed": false
   },
   "outputs": [
    {
     "data": {
      "text/plain": [
       "<bound method SArray.unique of dtype: str\n",
       "Rows: 550068\n",
       "['0-17', '0-17', '0-17', '0-17', '55+', '26-35', '46-50', '46-50', '46-50', '26-35', '26-35', '26-35', '26-35', '26-35', '51-55', '51-55', '51-55', '51-55', '36-45', '26-35', '26-35', '26-35', '26-35', '26-35', '26-35', '26-35', '26-35', '26-35', '26-35', '36-45', '36-45', '36-45', '36-45', '36-45', '36-45', '36-45', '36-45', '36-45', '36-45', '36-45', '36-45', '36-45', '36-45', '36-45', '36-45', '36-45', '36-45', '26-35', '26-35', '26-35', '26-35', '26-35', '46-50', '46-50', '46-50', '36-45', '26-35', '26-35', '26-35', '26-35', '26-35', '26-35', '26-35', '26-35', '26-35', '36-45', '36-45', '51-55', '51-55', '51-55', '18-25', '18-25', '18-25', '18-25', '18-25', '18-25', '18-25', '18-25', '18-25', '18-25', '18-25', '18-25', '18-25', '18-25', '18-25', '0-17', '0-17', '0-17', '0-17', '0-17', '0-17', '0-17', '0-17', '0-17', '0-17', '0-17', '0-17', '18-25', '18-25', '18-25', ... ]>"
      ]
     },
     "execution_count": 9,
     "metadata": {},
     "output_type": "execute_result"
    }
   ],
   "source": [
    "sf_train['Age'].unique"
   ]
  },
  {
   "cell_type": "code",
   "execution_count": 15,
   "metadata": {
    "collapsed": false
   },
   "outputs": [
    {
     "name": "stdout",
     "output_type": "stream",
     "text": [
      "set(['A', 'C', 'B'])\n",
      "set([0L, 1L])\n",
      "set([0L, 1L, 2L, 3L, 4L, 5L, 6L, 7L, 8L, 9L, 10L, 11L, 12L, 13L, 14L, 15L, 16L, 17L, 18L, 19L, 20L])\n",
      "set(['M', 'F'])\n",
      "set(['0-17', '36-45', '26-35', '51-55', '46-50', '18-25', '55+'])\n",
      "set(['1', '0', '3', '2', '4+'])\n"
     ]
    }
   ],
   "source": [
    "print set(sf_train['City_Category'])\n",
    "print set(sf_train['Marital_Status'])\n",
    "print set(sf_train['Occupation'])\n",
    "print set(sf_train['Gender'])\n",
    "print set(sf_train['Age'])\n",
    "print set(sf_train['Stay_In_Current_City_Years'])"
   ]
  },
  {
   "cell_type": "code",
   "execution_count": null,
   "metadata": {
    "collapsed": true
   },
   "outputs": [],
   "source": []
  }
 ],
 "metadata": {
  "kernelspec": {
   "display_name": "Python 2",
   "language": "python",
   "name": "python2"
  },
  "language_info": {
   "codemirror_mode": {
    "name": "ipython",
    "version": 2
   },
   "file_extension": ".py",
   "mimetype": "text/x-python",
   "name": "python",
   "nbconvert_exporter": "python",
   "pygments_lexer": "ipython2",
   "version": "2.7.11"
  }
 },
 "nbformat": 4,
 "nbformat_minor": 0
}
