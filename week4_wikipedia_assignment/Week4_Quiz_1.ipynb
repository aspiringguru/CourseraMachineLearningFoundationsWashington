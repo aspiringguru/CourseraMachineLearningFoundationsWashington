{
 "cells": [
  {
   "cell_type": "code",
   "execution_count": 94,
   "metadata": {
    "collapsed": false
   },
   "outputs": [],
   "source": [
    "import graphlab\n",
    "people = graphlab.SFrame('../data/people_wiki.gl/')"
   ]
  },
  {
   "cell_type": "code",
   "execution_count": 95,
   "metadata": {
    "collapsed": false
   },
   "outputs": [
    {
     "data": {
      "text/html": [
       "<div style=\"max-height:1000px;max-width:1500px;overflow:auto;\"><table frame=\"box\" rules=\"cols\">\n",
       "    <tr>\n",
       "        <th style=\"padding-left: 1em; padding-right: 1em; text-align: center\">URI</th>\n",
       "        <th style=\"padding-left: 1em; padding-right: 1em; text-align: center\">name</th>\n",
       "        <th style=\"padding-left: 1em; padding-right: 1em; text-align: center\">text</th>\n",
       "    </tr>\n",
       "    <tr>\n",
       "        <td style=\"padding-left: 1em; padding-right: 1em; text-align: center; vertical-align: top\">&lt;http://dbpedia.org/resou<br>rce/Digby_Morrell&gt; ...</td>\n",
       "        <td style=\"padding-left: 1em; padding-right: 1em; text-align: center; vertical-align: top\">Digby Morrell</td>\n",
       "        <td style=\"padding-left: 1em; padding-right: 1em; text-align: center; vertical-align: top\">digby morrell born 10<br>october 1979 is a former ...</td>\n",
       "    </tr>\n",
       "    <tr>\n",
       "        <td style=\"padding-left: 1em; padding-right: 1em; text-align: center; vertical-align: top\">&lt;http://dbpedia.org/resou<br>rce/Alfred_J._Lewy&gt; ...</td>\n",
       "        <td style=\"padding-left: 1em; padding-right: 1em; text-align: center; vertical-align: top\">Alfred J. Lewy</td>\n",
       "        <td style=\"padding-left: 1em; padding-right: 1em; text-align: center; vertical-align: top\">alfred j lewy aka sandy<br>lewy graduated from ...</td>\n",
       "    </tr>\n",
       "    <tr>\n",
       "        <td style=\"padding-left: 1em; padding-right: 1em; text-align: center; vertical-align: top\">&lt;http://dbpedia.org/resou<br>rce/Harpdog_Brown&gt; ...</td>\n",
       "        <td style=\"padding-left: 1em; padding-right: 1em; text-align: center; vertical-align: top\">Harpdog Brown</td>\n",
       "        <td style=\"padding-left: 1em; padding-right: 1em; text-align: center; vertical-align: top\">harpdog brown is a singer<br>and harmonica player who ...</td>\n",
       "    </tr>\n",
       "</table>\n",
       "[3 rows x 3 columns]<br/>\n",
       "</div>"
      ],
      "text/plain": [
       "Columns:\n",
       "\tURI\tstr\n",
       "\tname\tstr\n",
       "\ttext\tstr\n",
       "\n",
       "Rows: 3\n",
       "\n",
       "Data:\n",
       "+-------------------------------+----------------+\n",
       "|              URI              |      name      |\n",
       "+-------------------------------+----------------+\n",
       "| <http://dbpedia.org/resour... | Digby Morrell  |\n",
       "| <http://dbpedia.org/resour... | Alfred J. Lewy |\n",
       "| <http://dbpedia.org/resour... | Harpdog Brown  |\n",
       "+-------------------------------+----------------+\n",
       "+-------------------------------+\n",
       "|              text             |\n",
       "+-------------------------------+\n",
       "| digby morrell born 10 octo... |\n",
       "| alfred j lewy aka sandy le... |\n",
       "| harpdog brown is a singer ... |\n",
       "+-------------------------------+\n",
       "[3 rows x 3 columns]"
      ]
     },
     "execution_count": 95,
     "metadata": {},
     "output_type": "execute_result"
    }
   ],
   "source": [
    "people.head(3)"
   ]
  },
  {
   "cell_type": "code",
   "execution_count": 96,
   "metadata": {
    "collapsed": false
   },
   "outputs": [
    {
     "name": "stdout",
     "output_type": "stream",
     "text": [
      "(1, 3)\n",
      "+-------------------------------+------------+-------------------------------+\n",
      "|              URI              |    name    |              text             |\n",
      "+-------------------------------+------------+-------------------------------+\n",
      "| <http://dbpedia.org/resour... | Elton John | sir elton hercules john cb... |\n",
      "+-------------------------------+------------+-------------------------------+\n",
      "[1 rows x 3 columns]\n",
      "\n",
      "['sir elton hercules john cbe born reginald kenneth dwight 25 march 1947 is an english singer songwriter composer pianist record producer and occasional actor he has worked with lyricist bernie taupin as his songwriter partner since 1967 they have collaborated on more than 30 albums to datein his fivedecade career elton john has sold more than 300 million records making him one of the bestselling music artists in the world he has more than fifty top 40 hits including seven consecutive no 1 us albums 58 billboard top 40 singles 27 top 10 four no 2 and nine no 1 for 31 consecutive years 19702000 he had at least one song in the billboard hot 100 his single something about the way you look tonightcandle in the wind 1997 sold over 33 million copies worldwide and is the bestselling single of all time he has received six grammy awards five brit awards winning two awards for outstanding contribution to music and the first brits icon in 2013 for his lasting impact on british culture an academy award a golden globe award a tony award a disney legend award and the kennedy center honors in 2004 in 2004 rolling stone ranked him number 49 on its list of 100 influential musicians of the rock and roll era in 2008 billboard ranked him the most successful male solo artist on the billboard hot 100 top alltime artists third overallelton john was inducted into the rock and roll hall of fame in 1994 is an inductee into the songwriters hall of fame and is a fellow of the british academy of songwriters composers and authors having been named a commander of the order of the british empire in 1996 john received a knighthood from elizabeth ii for services to music and charitable services in 1998 john has performed at a number of royal events such as the funeral of princess diana at westminster abbey in 1997 the party at the palace in 2002 and the queens diamond jubilee concert outside buckingham palace in 2012he has been heavily involved in the fight against aids since the late 1980s in 1992 he established the elton john aids foundation and a year later began hosting the annual academy award party which has since become one of the highestprofile oscar parties in the hollywood film industry since its inception the foundation has raised over 200 million john who announced he was bisexual in 1976 and has been openly gay since 1988 entered into a civil partnership with david furnish on 21 december 2005 and after gay marriage became legal in england wed furnish on 21 december 2014 he continues to be a champion for lgbt social movements worldwide and samesex marriage']\n"
     ]
    }
   ],
   "source": [
    "elton = people[people['name'] == 'Elton John']\n",
    "print elton.shape\n",
    "print elton\n",
    "print elton['text']"
   ]
  },
  {
   "cell_type": "code",
   "execution_count": 97,
   "metadata": {
    "collapsed": false
   },
   "outputs": [
    {
     "name": "stdout",
     "output_type": "stream",
     "text": [
      "<class 'graphlab.data_structures.sarray.SArray'>\n",
      "+-------------------------------+------------+-------------------------------+\n",
      "|              URI              |    name    |              text             |\n",
      "+-------------------------------+------------+-------------------------------+\n",
      "| <http://dbpedia.org/resour... | Elton John | sir elton hercules john cb... |\n",
      "+-------------------------------+------------+-------------------------------+\n",
      "+-------------------------------+\n",
      "|           word_count          |\n",
      "+-------------------------------+\n",
      "| {'all': 1L, 'six': 1L, 'pr... |\n",
      "+-------------------------------+\n",
      "[1 rows x 4 columns]\n",
      "\n"
     ]
    }
   ],
   "source": [
    "elton['word_count'] = graphlab.text_analytics.count_words(elton['text'])\n",
    "print type(elton['word_count'])\n",
    "print elton.head(3)"
   ]
  },
  {
   "cell_type": "code",
   "execution_count": 98,
   "metadata": {
    "collapsed": false
   },
   "outputs": [
    {
     "name": "stdout",
     "output_type": "stream",
     "text": [
      "<class 'graphlab.data_structures.sframe.SFrame'>\n",
      "<type 'long'>\n",
      "<type 'list'>\n",
      "elton_word_count_table.shape (255, 2)\n",
      "+-----------+-------+\n",
      "|    word   | count |\n",
      "+-----------+-------+\n",
      "| movements |   1   |\n",
      "|   social  |   1   |\n",
      "|  champion |   1   |\n",
      "+-----------+-------+\n",
      "[3 rows x 2 columns]\n",
      "\n"
     ]
    }
   ],
   "source": [
    "elton_word_count_table = elton[['word_count']].stack('word_count', new_column_name = ['word','count'])\n",
    "print type(elton_word_count_table)\n",
    "print type(elton_word_count_table['count'][0])\n",
    "print type(list(elton_word_count_table['count']))\n",
    "print \"elton_word_count_table.shape\", elton_word_count_table.shape\n",
    "print elton_word_count_table.head(3)"
   ]
  },
  {
   "cell_type": "code",
   "execution_count": 99,
   "metadata": {
    "collapsed": false
   },
   "outputs": [
    {
     "name": "stdout",
     "output_type": "stream",
     "text": [
      "max(count) =  27\n",
      "most frequent word =  the\n"
     ]
    }
   ],
   "source": [
    "print 'max(count) = ', max(list(elton_word_count_table['count']))\n",
    "listCount = list(elton_word_count_table['count'])\n",
    "maxPos = max(enumerate(listCount),key=lambda x: x[1])[0]\n",
    "print 'most frequent word = ', elton_word_count_table['word'][maxPos]"
   ]
  },
  {
   "cell_type": "code",
   "execution_count": 100,
   "metadata": {
    "collapsed": false
   },
   "outputs": [
    {
     "name": "stdout",
     "output_type": "stream",
     "text": [
      "+------+-------+\n",
      "| word | count |\n",
      "+------+-------+\n",
      "| the  |   27  |\n",
      "|  in  |   18  |\n",
      "| and  |   15  |\n",
      "+------+-------+\n",
      "[3 rows x 2 columns]\n",
      "\n"
     ]
    }
   ],
   "source": [
    "elton_word_count_table = elton_word_count_table.sort('count',ascending=False)\n",
    "print elton_word_count_table.head(3)\n",
    "#Week 4 Quiz Q1"
   ]
  },
  {
   "cell_type": "code",
   "execution_count": 101,
   "metadata": {
    "collapsed": false
   },
   "outputs": [
    {
     "data": {
      "text/html": [
       "<div style=\"max-height:1000px;max-width:1500px;overflow:auto;\"><table frame=\"box\" rules=\"cols\">\n",
       "    <tr>\n",
       "        <th style=\"padding-left: 1em; padding-right: 1em; text-align: center\">URI</th>\n",
       "        <th style=\"padding-left: 1em; padding-right: 1em; text-align: center\">name</th>\n",
       "        <th style=\"padding-left: 1em; padding-right: 1em; text-align: center\">text</th>\n",
       "        <th style=\"padding-left: 1em; padding-right: 1em; text-align: center\">word_count</th>\n",
       "    </tr>\n",
       "    <tr>\n",
       "        <td style=\"padding-left: 1em; padding-right: 1em; text-align: center; vertical-align: top\">&lt;http://dbpedia.org/resou<br>rce/Digby_Morrell&gt; ...</td>\n",
       "        <td style=\"padding-left: 1em; padding-right: 1em; text-align: center; vertical-align: top\">Digby Morrell</td>\n",
       "        <td style=\"padding-left: 1em; padding-right: 1em; text-align: center; vertical-align: top\">digby morrell born 10<br>october 1979 is a former ...</td>\n",
       "        <td style=\"padding-left: 1em; padding-right: 1em; text-align: center; vertical-align: top\">{'since': 1L, 'carltons':<br>1L, 'being': 1L, '2005': ...</td>\n",
       "    </tr>\n",
       "    <tr>\n",
       "        <td style=\"padding-left: 1em; padding-right: 1em; text-align: center; vertical-align: top\">&lt;http://dbpedia.org/resou<br>rce/Alfred_J._Lewy&gt; ...</td>\n",
       "        <td style=\"padding-left: 1em; padding-right: 1em; text-align: center; vertical-align: top\">Alfred J. Lewy</td>\n",
       "        <td style=\"padding-left: 1em; padding-right: 1em; text-align: center; vertical-align: top\">alfred j lewy aka sandy<br>lewy graduated from ...</td>\n",
       "        <td style=\"padding-left: 1em; padding-right: 1em; text-align: center; vertical-align: top\">{'precise': 1L, 'thomas':<br>1L, 'closely': 1L, ...</td>\n",
       "    </tr>\n",
       "    <tr>\n",
       "        <td style=\"padding-left: 1em; padding-right: 1em; text-align: center; vertical-align: top\">&lt;http://dbpedia.org/resou<br>rce/Harpdog_Brown&gt; ...</td>\n",
       "        <td style=\"padding-left: 1em; padding-right: 1em; text-align: center; vertical-align: top\">Harpdog Brown</td>\n",
       "        <td style=\"padding-left: 1em; padding-right: 1em; text-align: center; vertical-align: top\">harpdog brown is a singer<br>and harmonica player who ...</td>\n",
       "        <td style=\"padding-left: 1em; padding-right: 1em; text-align: center; vertical-align: top\">{'just': 1L, 'issued':<br>1L, 'mainly': 1L, ...</td>\n",
       "    </tr>\n",
       "    <tr>\n",
       "        <td style=\"padding-left: 1em; padding-right: 1em; text-align: center; vertical-align: top\">&lt;http://dbpedia.org/resou<br>rce/Franz_Rottensteiner&gt; ...</td>\n",
       "        <td style=\"padding-left: 1em; padding-right: 1em; text-align: center; vertical-align: top\">Franz Rottensteiner</td>\n",
       "        <td style=\"padding-left: 1em; padding-right: 1em; text-align: center; vertical-align: top\">franz rottensteiner born<br>in waidmannsfeld lower ...</td>\n",
       "        <td style=\"padding-left: 1em; padding-right: 1em; text-align: center; vertical-align: top\">{'all': 1L,<br>'bauforschung': 1L, ...</td>\n",
       "    </tr>\n",
       "    <tr>\n",
       "        <td style=\"padding-left: 1em; padding-right: 1em; text-align: center; vertical-align: top\">&lt;http://dbpedia.org/resou<br>rce/G-Enka&gt; ...</td>\n",
       "        <td style=\"padding-left: 1em; padding-right: 1em; text-align: center; vertical-align: top\">G-Enka</td>\n",
       "        <td style=\"padding-left: 1em; padding-right: 1em; text-align: center; vertical-align: top\">henry krvits born 30<br>december 1974 in tallinn ...</td>\n",
       "        <td style=\"padding-left: 1em; padding-right: 1em; text-align: center; vertical-align: top\">{'legendary': 1L,<br>'gangstergenka': 1L, ...</td>\n",
       "    </tr>\n",
       "</table>\n",
       "[5 rows x 4 columns]<br/>\n",
       "</div>"
      ],
      "text/plain": [
       "Columns:\n",
       "\tURI\tstr\n",
       "\tname\tstr\n",
       "\ttext\tstr\n",
       "\tword_count\tdict\n",
       "\n",
       "Rows: 5\n",
       "\n",
       "Data:\n",
       "+-------------------------------+---------------------+\n",
       "|              URI              |         name        |\n",
       "+-------------------------------+---------------------+\n",
       "| <http://dbpedia.org/resour... |    Digby Morrell    |\n",
       "| <http://dbpedia.org/resour... |    Alfred J. Lewy   |\n",
       "| <http://dbpedia.org/resour... |    Harpdog Brown    |\n",
       "| <http://dbpedia.org/resour... | Franz Rottensteiner |\n",
       "| <http://dbpedia.org/resour... |        G-Enka       |\n",
       "+-------------------------------+---------------------+\n",
       "+-------------------------------+-------------------------------+\n",
       "|              text             |           word_count          |\n",
       "+-------------------------------+-------------------------------+\n",
       "| digby morrell born 10 octo... | {'since': 1L, 'carltons': ... |\n",
       "| alfred j lewy aka sandy le... | {'precise': 1L, 'thomas': ... |\n",
       "| harpdog brown is a singer ... | {'just': 1L, 'issued': 1L,... |\n",
       "| franz rottensteiner born i... | {'all': 1L, 'bauforschung'... |\n",
       "| henry krvits born 30 decem... | {'legendary': 1L, 'gangste... |\n",
       "+-------------------------------+-------------------------------+\n",
       "[5 rows x 4 columns]"
      ]
     },
     "execution_count": 101,
     "metadata": {},
     "output_type": "execute_result"
    }
   ],
   "source": [
    "people['word_count'] = graphlab.text_analytics.count_words(people['text'])\n",
    "people.head(5)"
   ]
  },
  {
   "cell_type": "code",
   "execution_count": 102,
   "metadata": {
    "collapsed": false
   },
   "outputs": [
    {
     "name": "stdout",
     "output_type": "stream",
     "text": [
      "<class 'graphlab.data_structures.sarray.SArray'>\n",
      "(59071,)\n",
      "<class 'graphlab.data_structures.sarray.SArray'>\n",
      "(59071,)\n"
     ]
    }
   ],
   "source": [
    "tfidf = graphlab.text_analytics.tf_idf(people['word_count'])\n",
    "print type(tfidf)\n",
    "print tfidf.shape\n",
    "if not isinstance(tfidf, graphlab.data_structures.sarray.SArray):\n",
    "    print \"tfidf identified as type graphlab.data_structures.sarray.SArray\"\n",
    "    tfidf = tfidf['docs']\n",
    "print type(tfidf)\n",
    "print tfidf.shape"
   ]
  },
  {
   "cell_type": "code",
   "execution_count": 103,
   "metadata": {
    "collapsed": false
   },
   "outputs": [
    {
     "name": "stdout",
     "output_type": "stream",
     "text": [
      "<class 'graphlab.data_structures.sarray.SArray'>\n",
      "(59071,)\n"
     ]
    }
   ],
   "source": [
    "people['tfidf'] = tfidf\n",
    "elton = people[people['name'] == 'Elton John']\n",
    "print type(tfidf)\n",
    "print tfidf.shape"
   ]
  },
  {
   "cell_type": "code",
   "execution_count": 104,
   "metadata": {
    "collapsed": false
   },
   "outputs": [
    {
     "name": "stdout",
     "output_type": "stream",
     "text": [
      "<class 'graphlab.data_structures.sframe.SFrame'>\n",
      "(255, 2)\n"
     ]
    }
   ],
   "source": [
    "elton_word_tfidf = elton[['tfidf']].stack('tfidf',new_column_name=['word','tfidf']).sort('tfidf',ascending=False)\n",
    "print type(elton_word_tfidf)\n",
    "print elton_word_tfidf.shape"
   ]
  },
  {
   "cell_type": "markdown",
   "metadata": {},
   "source": [
    "Week 4 Quiz Q2"
   ]
  },
  {
   "cell_type": "code",
   "execution_count": 105,
   "metadata": {
    "collapsed": false
   },
   "outputs": [
    {
     "name": "stdout",
     "output_type": "stream",
     "text": [
      "+-----------+---------------+\n",
      "|    word   |     tfidf     |\n",
      "+-----------+---------------+\n",
      "|  furnish  |  18.38947184  |\n",
      "|   elton   |  17.48232027  |\n",
      "| billboard | 17.3036809575 |\n",
      "+-----------+---------------+\n",
      "[3 rows x 2 columns]\n",
      "\n"
     ]
    }
   ],
   "source": [
    "print elton_word_tfidf.head(3)"
   ]
  },
  {
   "cell_type": "code",
   "execution_count": 106,
   "metadata": {
    "collapsed": false
   },
   "outputs": [
    {
     "name": "stdout",
     "output_type": "stream",
     "text": [
      "<class 'graphlab.data_structures.sframe.SFrame'>\n",
      "(1, 5)\n"
     ]
    }
   ],
   "source": [
    "Victoria_Beckham = people[people['name'] == 'Victoria Beckham']\n",
    "print type(Victoria_Beckham)\n",
    "print Victoria_Beckham.shape"
   ]
  },
  {
   "cell_type": "markdown",
   "metadata": {},
   "source": [
    "Week 4 Quiz Q3 : The cosine distance between 'Elton John's and 'Victoria Beckham's articles\n",
    "(represented with TF-IDF) falls within which range?"
   ]
  },
  {
   "cell_type": "code",
   "execution_count": 107,
   "metadata": {
    "collapsed": false
   },
   "outputs": [
    {
     "data": {
      "text/plain": [
       "0.9567006376655429"
      ]
     },
     "execution_count": 107,
     "metadata": {},
     "output_type": "execute_result"
    }
   ],
   "source": [
    "graphlab.distances.cosine(elton['tfidf'][0],Victoria_Beckham['tfidf'][0])"
   ]
  },
  {
   "cell_type": "code",
   "execution_count": 108,
   "metadata": {
    "collapsed": false
   },
   "outputs": [
    {
     "name": "stdout",
     "output_type": "stream",
     "text": [
      "<class 'graphlab.data_structures.sframe.SFrame'>\n",
      "(1, 5)\n"
     ]
    }
   ],
   "source": [
    "Paul_McCartney = people[people['name'] == 'Paul McCartney']\n",
    "print type(Paul_McCartney)\n",
    "print Paul_McCartney.shape"
   ]
  },
  {
   "cell_type": "markdown",
   "metadata": {},
   "source": [
    "Week 4 Quiz Q4. The cosine distance between 'Elton John's and 'Paul McCartney's articles \n",
    "(represented with TF-IDF) falls within which range?\n",
    "#0.7 to 0.89"
   ]
  },
  {
   "cell_type": "code",
   "execution_count": 109,
   "metadata": {
    "collapsed": false
   },
   "outputs": [
    {
     "data": {
      "text/plain": [
       "0.8250310029221779"
      ]
     },
     "execution_count": 109,
     "metadata": {},
     "output_type": "execute_result"
    }
   ],
   "source": [
    "graphlab.distances.cosine(elton['tfidf'][0],Paul_McCartney['tfidf'][0])"
   ]
  },
  {
   "cell_type": "markdown",
   "metadata": {},
   "source": [
    "Week 4 quiz Q5 : Who is closer to 'Elton John', 'Victoria Beckham' or 'Paul McCartney'?\n",
    "cosine distance, which is given by (1-cosine_similarity)\n",
    "\n",
    "1-0.825 = 0.175  (Paul_McCartney)   - this is the larger value = is closer.  \n",
    "1-0.9567= 0.0433 (Victoria_Beckham)"
   ]
  },
  {
   "cell_type": "markdown",
   "metadata": {},
   "source": [
    "Week 4 Quiz Q5 : Who is the nearest neighbor to 'Elton John' using raw word counts?"
   ]
  },
  {
   "cell_type": "code",
   "execution_count": 110,
   "metadata": {
    "collapsed": false
   },
   "outputs": [
    {
     "name": "stdout",
     "output_type": "stream",
     "text": [
      "(0, 5)\n",
      "+-----+------+------+------------+-------+\n",
      "| URI | name | text | word_count | tfidf |\n",
      "+-----+------+------+------------+-------+\n",
      "+-----+------+------+------------+-------+\n",
      "[0 rows x 5 columns]\n",
      "\n",
      "[]\n"
     ]
    }
   ],
   "source": [
    "gBush = people[people['name'] == 'George Bush']\n",
    "print gBush.shape\n",
    "print gBush\n",
    "print gBush['text']"
   ]
  },
  {
   "cell_type": "code",
   "execution_count": 111,
   "metadata": {
    "collapsed": false
   },
   "outputs": [
    {
     "name": "stdout",
     "output_type": "stream",
     "text": [
      "<class 'graphlab.data_structures.sframe.SFrame'> (1, 5)\n",
      "<class 'graphlab.data_structures.sframe.SFrame'> (1, 5)\n",
      "<class 'graphlab.data_structures.sframe.SFrame'> (1, 5)\n",
      "elton to BillyJoel =  0.772428209139\n",
      "elton to CliffRichard =  0.811786192316\n",
      "elton to Roger_Daltrey =  0.837118832236\n"
     ]
    }
   ],
   "source": [
    "#\n",
    "Billy_Joel    = people[people['name'] == 'Billy Joel']\n",
    "Cliff_Richard = people[people['name'] == 'Cliff Richard']\n",
    "Roger_Daltrey = people[people['name'] == 'Roger Daltrey']\n",
    "#George_Bush   = people[people['name'] == 'George Bush']\n",
    "print type(Billy_Joel), Billy_Joel.shape\n",
    "print type(Cliff_Richard), Cliff_Richard.shape\n",
    "print type(Roger_Daltrey), Roger_Daltrey.shape\n",
    "#print type(George_Bush), George_Bush.shape\n",
    "#\n",
    "print \"elton to BillyJoel = \",    graphlab.distances.cosine(elton['tfidf'][0],Billy_Joel['tfidf'][0])\n",
    "print \"elton to CliffRichard = \", graphlab.distances.cosine(elton['tfidf'][0],Cliff_Richard['tfidf'][0])\n",
    "print \"elton to Roger_Daltrey = \", graphlab.distances.cosine(elton['tfidf'][0],Roger_Daltrey['tfidf'][0])\n",
    "#print \"elton to George_Bush = \", graphlab.distances.cosine(elton['tfidf'][0],George_Bush['tfidf'][0])\n",
    "#\n"
   ]
  },
  {
   "cell_type": "code",
   "execution_count": 112,
   "metadata": {
    "collapsed": false
   },
   "outputs": [
    {
     "data": {
      "text/html": [
       "<pre>Starting brute force nearest neighbors model training.</pre>"
      ],
      "text/plain": [
       "Starting brute force nearest neighbors model training."
      ]
     },
     "metadata": {},
     "output_type": "display_data"
    },
    {
     "name": "stdout",
     "output_type": "stream",
     "text": [
      "---time to run graphlab.nearest_neighbors.create = 9.74000000954 seconds ---\n"
     ]
    }
   ],
   "source": [
    "import time\n",
    "start_time = time.time()\n",
    "knn_model = graphlab.nearest_neighbors.create(people,features=['tfidf'],label='name')\n",
    "print(\"---time to run graphlab.nearest_neighbors.create = %s seconds ---\" % (time.time() - start_time))\n"
   ]
  },
  {
   "cell_type": "code",
   "execution_count": 113,
   "metadata": {
    "collapsed": false
   },
   "outputs": [
    {
     "data": {
      "text/html": [
       "<pre>Starting pairwise querying.</pre>"
      ],
      "text/plain": [
       "Starting pairwise querying."
      ]
     },
     "metadata": {},
     "output_type": "display_data"
    },
    {
     "data": {
      "text/html": [
       "<pre>+--------------+---------+-------------+--------------+</pre>"
      ],
      "text/plain": [
       "+--------------+---------+-------------+--------------+"
      ]
     },
     "metadata": {},
     "output_type": "display_data"
    },
    {
     "data": {
      "text/html": [
       "<pre>| Query points | # Pairs | % Complete. | Elapsed Time |</pre>"
      ],
      "text/plain": [
       "| Query points | # Pairs | % Complete. | Elapsed Time |"
      ]
     },
     "metadata": {},
     "output_type": "display_data"
    },
    {
     "data": {
      "text/html": [
       "<pre>+--------------+---------+-------------+--------------+</pre>"
      ],
      "text/plain": [
       "+--------------+---------+-------------+--------------+"
      ]
     },
     "metadata": {},
     "output_type": "display_data"
    },
    {
     "data": {
      "text/html": [
       "<pre>| 0            | 1       | 0.00169288  | 86.084ms     |</pre>"
      ],
      "text/plain": [
       "| 0            | 1       | 0.00169288  | 86.084ms     |"
      ]
     },
     "metadata": {},
     "output_type": "display_data"
    },
    {
     "data": {
      "text/html": [
       "<pre>| Done         |         | 100         | 209.201ms    |</pre>"
      ],
      "text/plain": [
       "| Done         |         | 100         | 209.201ms    |"
      ]
     },
     "metadata": {},
     "output_type": "display_data"
    },
    {
     "data": {
      "text/html": [
       "<pre>+--------------+---------+-------------+--------------+</pre>"
      ],
      "text/plain": [
       "+--------------+---------+-------------+--------------+"
      ]
     },
     "metadata": {},
     "output_type": "display_data"
    },
    {
     "name": "stdout",
     "output_type": "stream",
     "text": [
      "---time to run knn_model.query = 1.81999993324 seconds ---\n"
     ]
    }
   ],
   "source": [
    "#who is closest to obama\n",
    "start_time = time.time()\n",
    "knn_model.query(elton)\n",
    "print(\"---time to run knn_model.query = %s seconds ---\" % (time.time() - start_time))"
   ]
  },
  {
   "cell_type": "code",
   "execution_count": 84,
   "metadata": {
    "collapsed": false
   },
   "outputs": [
    {
     "name": "stdout",
     "output_type": "stream",
     "text": [
      "<class 'graphlab.data_structures.sframe.SFrame'>\n",
      "people.shape (59071, 4)\n",
      "+-------------------------------+----------------+\n",
      "|              URI              |      name      |\n",
      "+-------------------------------+----------------+\n",
      "| <http://dbpedia.org/resour... | Digby Morrell  |\n",
      "| <http://dbpedia.org/resour... | Alfred J. Lewy |\n",
      "| <http://dbpedia.org/resour... | Harpdog Brown  |\n",
      "+-------------------------------+----------------+\n",
      "+-------------------------------+-------------------------------+\n",
      "|              text             |           word_count          |\n",
      "+-------------------------------+-------------------------------+\n",
      "| digby morrell born 10 octo... | {'since': 1L, 'carltons': ... |\n",
      "| alfred j lewy aka sandy le... | {'precise': 1L, 'thomas': ... |\n",
      "| harpdog brown is a singer ... | {'just': 1L, 'issued': 1L,... |\n",
      "+-------------------------------+-------------------------------+\n",
      "[3 rows x 4 columns]\n",
      "\n",
      "elton.shape (1, 4)\n",
      "billy.shape (1, 4)\n",
      "cliff.shape= (1, 4)\n",
      "roger.shape (1, 4)\n",
      "george.shape= (0, 4)\n",
      "-----------------------------\n",
      "elton.shape (1, 4)\n",
      "billy.shape (1, 4)\n",
      "cliff.shape= (1, 4)\n",
      "roger.shape (1, 4)\n",
      "george.shape= (0, 4)\n",
      "-----------------------------\n"
     ]
    }
   ],
   "source": [
    "print type(people)\n",
    "#people.remove_column('tfidf')#remove if this column exists.\n",
    "print \"people.shape\", people.shape\n",
    "print people.head(3)\n",
    "#\n",
    "elton  = people[people['name'] == 'Elton John']\n",
    "billy  = people[people['name'] == 'Billy Joel']\n",
    "cliff  = people[people['name'] == 'Cliff Richard']\n",
    "roger  = people[people['name'] == 'Roger Daltrey']\n",
    "george = people[people['name'] == 'George Bush']\n",
    "#\n",
    "print \"elton.shape\", elton.shape\n",
    "print \"billy.shape\", billy.shape\n",
    "print \"cliff.shape=\", cliff.shape\n",
    "print \"roger.shape\", roger.shape\n",
    "print \"george.shape=\", george.shape\n",
    "#\n",
    "elton['word_count'] = graphlab.text_analytics.count_words(elton['text'])\n",
    "billy['word_count'] = graphlab.text_analytics.count_words(billy['text'])\n",
    "cliff['word_count'] = graphlab.text_analytics.count_words(cliff['text'])\n",
    "roger['word_count'] = graphlab.text_analytics.count_words(roger['text'])\n",
    "george['word_count'] = graphlab.text_analytics.count_words(george['text'])\n",
    "#\n",
    "print \"-----------------------------\"\n",
    "print \"elton.shape\", elton.shape\n",
    "print \"billy.shape\", billy.shape\n",
    "print \"cliff.shape=\", cliff.shape\n",
    "print \"roger.shape\", roger.shape\n",
    "print \"george.shape=\", george.shape\n",
    "print \"-----------------------------\"\n",
    "#\n"
   ]
  },
  {
   "cell_type": "code",
   "execution_count": 90,
   "metadata": {
    "collapsed": false
   },
   "outputs": [
    {
     "name": "stdout",
     "output_type": "stream",
     "text": [
      "------------\n",
      "type(elton_word_count_table)= <class 'graphlab.data_structures.sframe.SFrame'>\n",
      "type(billy_word_count_table)= <class 'graphlab.data_structures.sframe.SFrame'>\n",
      "type(cliff_word_count_table)= <class 'graphlab.data_structures.sframe.SFrame'>\n",
      "type(roger_word_count_table)= <class 'graphlab.data_structures.sframe.SFrame'>\n"
     ]
    }
   ],
   "source": [
    "#\n",
    "print \"------------\"\n",
    "elton_word_count_table  = elton[['word_count']].stack('word_count', new_column_name = ['word','count'])\n",
    "print \"type(elton_word_count_table)=\", type(elton_word_count_table)\n",
    "billy_word_count_table  = billy[['word_count']].stack('word_count', new_column_name = ['word','count'])\n",
    "print \"type(billy_word_count_table)=\", type(billy_word_count_table)\n",
    "cliff_word_count_table  = cliff[['word_count']].stack('word_count', new_column_name = ['word','count'])\n",
    "print \"type(cliff_word_count_table)=\", type(cliff_word_count_table)\n",
    "roger_word_count_table  = roger[['word_count']].stack('word_count', new_column_name = ['word','count'])\n",
    "print \"type(roger_word_count_table)=\", type(roger_word_count_table)\n",
    "#\n",
    "elton_word_count_table  = elton_word_count_table.sort('count',ascending=False)\n",
    "billy_word_count_table  = billy_word_count_table.sort('count',ascending=False)\n",
    "cliff_word_count_table  = cliff_word_count_table.sort('count',ascending=False)\n",
    "roger_word_count_table  = roger_word_count_table.sort('count',ascending=False)\n",
    "#george_word_count_table = george_word_count_table.sort('count',ascending=False)\n"
   ]
  },
  {
   "cell_type": "code",
   "execution_count": 92,
   "metadata": {
    "collapsed": false
   },
   "outputs": [
    {
     "name": "stdout",
     "output_type": "stream",
     "text": [
      "elton_word_count_table=\n",
      "+------+-------+\n",
      "| word | count |\n",
      "+------+-------+\n",
      "| the  |   27  |\n",
      "|  in  |   18  |\n",
      "| and  |   15  |\n",
      "|  of  |   13  |\n",
      "|  a   |   10  |\n",
      "+------+-------+\n",
      "[5 rows x 2 columns]\n",
      "\n",
      "billy_word_count_table=\n",
      "+------+-------+\n",
      "| word | count |\n",
      "+------+-------+\n",
      "| the  |   17  |\n",
      "|  in  |   9   |\n",
      "|  of  |   9   |\n",
      "| and  |   8   |\n",
      "| his  |   5   |\n",
      "+------+-------+\n",
      "[5 rows x 2 columns]\n",
      "\n",
      "cliff_word_count_table=\n",
      "+------+-------+\n",
      "| word | count |\n",
      "+------+-------+\n",
      "| the  |   36  |\n",
      "|  in  |   24  |\n",
      "| and  |   22  |\n",
      "|  a   |   14  |\n",
      "|  of  |   10  |\n",
      "+------+-------+\n",
      "[5 rows x 2 columns]\n",
      "\n",
      "roger_word_count_table=\n",
      "+------+-------+\n",
      "| word | count |\n",
      "+------+-------+\n",
      "| the  |   22  |\n",
      "| and  |   15  |\n",
      "|  of  |   14  |\n",
      "|  in  |   11  |\n",
      "|  a   |   7   |\n",
      "+------+-------+\n",
      "[5 rows x 2 columns]\n",
      "\n"
     ]
    }
   ],
   "source": [
    "print \"elton_word_count_table=\\n\",elton_word_count_table.head(5)\n",
    "print \"billy_word_count_table=\\n\",billy_word_count_table.head(5)\n",
    "print \"cliff_word_count_table=\\n\",cliff_word_count_table.head(5)\n",
    "print \"roger_word_count_table=\\n\",roger_word_count_table.head(5)"
   ]
  },
  {
   "cell_type": "code",
   "execution_count": null,
   "metadata": {
    "collapsed": true
   },
   "outputs": [],
   "source": []
  },
  {
   "cell_type": "code",
   "execution_count": null,
   "metadata": {
    "collapsed": true
   },
   "outputs": [],
   "source": []
  }
 ],
 "metadata": {
  "kernelspec": {
   "display_name": "Python 2",
   "language": "python",
   "name": "python2"
  },
  "language_info": {
   "codemirror_mode": {
    "name": "ipython",
    "version": 2
   },
   "file_extension": ".py",
   "mimetype": "text/x-python",
   "name": "python",
   "nbconvert_exporter": "python",
   "pygments_lexer": "ipython2",
   "version": "2.7.11"
  }
 },
 "nbformat": 4,
 "nbformat_minor": 0
}
