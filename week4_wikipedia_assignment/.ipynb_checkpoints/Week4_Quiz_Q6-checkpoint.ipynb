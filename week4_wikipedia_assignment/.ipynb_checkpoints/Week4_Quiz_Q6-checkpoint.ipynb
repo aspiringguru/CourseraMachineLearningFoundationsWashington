{
 "cells": [
  {
   "cell_type": "code",
   "execution_count": 1,
   "metadata": {
    "collapsed": false
   },
   "outputs": [
    {
     "name": "stderr",
     "output_type": "stream",
     "text": [
      "[INFO] graphlab.cython.cy_server: GraphLab Create v2.1 started. Logging: Z:\\WINTEMP\\graphlab_server_1478685520.log.0\n"
     ]
    },
    {
     "name": "stdout",
     "output_type": "stream",
     "text": [
      "This non-commercial license of GraphLab Create for academic use is assigned to bmatthewtaylor@gmail.com and will expire on October 27, 2017.\n"
     ]
    }
   ],
   "source": [
    "import graphlab\n",
    "people = graphlab.SFrame('../data/people_wiki.gl/')"
   ]
  },
  {
   "cell_type": "code",
   "execution_count": 2,
   "metadata": {
    "collapsed": true
   },
   "outputs": [],
   "source": [
    "people['word_count'] = graphlab.text_analytics.count_words(people['text'])"
   ]
  },
  {
   "cell_type": "code",
   "execution_count": 12,
   "metadata": {
    "collapsed": false
   },
   "outputs": [],
   "source": [
    "tfidf = graphlab.text_analytics.tf_idf(people['word_count'])\n",
    "#https://turi.com/products/create/docs/generated/graphlab.text_analytics.tf_idf.html\n",
    "\n",
    "# Earlier versions of GraphLab Create returned an SFrame rather than a single SArray\n",
    "# This notebook was created using Graphlab Create version 1.7.1\n",
    "if graphlab.version <= '1.6.1':\n",
    "    tfidf = tfidf['docs']"
   ]
  },
  {
   "cell_type": "code",
   "execution_count": 13,
   "metadata": {
    "collapsed": true
   },
   "outputs": [],
   "source": [
    "people['tfidf'] = tfidf"
   ]
  },
  {
   "cell_type": "code",
   "execution_count": 14,
   "metadata": {
    "collapsed": true
   },
   "outputs": [],
   "source": [
    "elton  = people[people['name'] == 'Elton John']\n",
    "billy  = people[people['name'] == 'Billy Joel']\n",
    "cliff  = people[people['name'] == 'Cliff Richard']\n",
    "roger  = people[people['name'] == 'Roger Daltrey']\n",
    "george = people[people['name'] == 'George Bush'] "
   ]
  },
  {
   "cell_type": "code",
   "execution_count": 17,
   "metadata": {
    "collapsed": false
   },
   "outputs": [
    {
     "name": "stdout",
     "output_type": "stream",
     "text": [
      "(1, 5)\n",
      "(1, 5)\n",
      "(1, 5)\n",
      "(1, 5)\n",
      "(0, 5)\n"
     ]
    }
   ],
   "source": [
    "print elton.shape\n",
    "print billy.shape\n",
    "print cliff.shape\n",
    "print roger.shape\n",
    "print george.shape"
   ]
  },
  {
   "cell_type": "code",
   "execution_count": 18,
   "metadata": {
    "collapsed": false
   },
   "outputs": [
    {
     "name": "stdout",
     "output_type": "stream",
     "text": [
      "0.772428209139\n",
      "0.811786192316\n",
      "0.837118832236\n"
     ]
    }
   ],
   "source": [
    "#week 4 quiz Q6\n",
    "print graphlab.distances.cosine(elton['tfidf'][0],billy['tfidf'][0])\n",
    "print graphlab.distances.cosine(elton['tfidf'][0],cliff['tfidf'][0])\n",
    "print graphlab.distances.cosine(elton['tfidf'][0],roger['tfidf'][0])\n",
    "#print graphlab.distances.cosine(elton['tfidf'][0],george['tfidf'][0])\n",
    "#cannot get cosine for george since zero rows."
   ]
  },
  {
   "cell_type": "code",
   "execution_count": 20,
   "metadata": {
    "collapsed": false
   },
   "outputs": [
    {
     "name": "stdout",
     "output_type": "stream",
     "text": [
      "(1, 5)\n",
      "(1, 5)\n",
      "(1, 5)\n",
      "(1, 5)\n",
      "(1, 5)\n"
     ]
    }
   ],
   "source": [
    "#week 4 quiz Q8\n",
    "victoria  = people[people['name'] == 'Victoria Beckham']\n",
    "stephen  = people[people['name'] == 'Stephen Dow Beckham']\n",
    "louis  = people[people['name'] == 'Louis Molloy']\n",
    "adrienne  = people[people['name'] == 'Adrienne Corri']\n",
    "mary = people[people['name'] == 'Mary Fitzgerald (artist)'] \n",
    "print victoria.shape\n",
    "print stephen.shape\n",
    "print louis.shape\n",
    "print adrienne.shape\n",
    "print mary.shape"
   ]
  },
  {
   "cell_type": "code",
   "execution_count": 21,
   "metadata": {
    "collapsed": false
   },
   "outputs": [
    {
     "name": "stdout",
     "output_type": "stream",
     "text": [
      "0.784986706828\n",
      "0.821763080261\n",
      "0.960877602833\n",
      "0.974186924698\n"
     ]
    }
   ],
   "source": [
    "print graphlab.distances.cosine(victoria['tfidf'][0],stephen['tfidf'][0])\n",
    "print graphlab.distances.cosine(victoria['tfidf'][0],louis['tfidf'][0])\n",
    "print graphlab.distances.cosine(victoria['tfidf'][0],adrienne['tfidf'][0])\n",
    "print graphlab.distances.cosine(victoria['tfidf'][0],mary['tfidf'][0])\n"
   ]
  },
  {
   "cell_type": "code",
   "execution_count": null,
   "metadata": {
    "collapsed": true
   },
   "outputs": [],
   "source": []
  }
 ],
 "metadata": {
  "kernelspec": {
   "display_name": "Python 2",
   "language": "python",
   "name": "python2"
  },
  "language_info": {
   "codemirror_mode": {
    "name": "ipython",
    "version": 2
   },
   "file_extension": ".py",
   "mimetype": "text/x-python",
   "name": "python",
   "nbconvert_exporter": "python",
   "pygments_lexer": "ipython2",
   "version": "2.7.11"
  }
 },
 "nbformat": 4,
 "nbformat_minor": 0
}
