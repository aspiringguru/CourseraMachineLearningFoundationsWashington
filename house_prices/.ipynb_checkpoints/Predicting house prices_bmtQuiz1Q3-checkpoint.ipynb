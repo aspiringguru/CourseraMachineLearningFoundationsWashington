{
 "cells": [
  {
   "cell_type": "code",
   "execution_count": 3,
   "metadata": {
    "collapsed": false
   },
   "outputs": [
    {
     "name": "stdout",
     "output_type": "stream",
     "text": [
      "-------\n"
     ]
    }
   ],
   "source": [
    "import graphlab\n",
    "print \"-------\""
   ]
  },
  {
   "cell_type": "code",
   "execution_count": 4,
   "metadata": {
    "collapsed": false
   },
   "outputs": [
    {
     "name": "stderr",
     "output_type": "stream",
     "text": [
      "[INFO] graphlab.cython.cy_server: GraphLab Create v2.1 started. Logging: Z:\\WINTEMP\\graphlab_server_1477711824.log.0\n"
     ]
    },
    {
     "name": "stdout",
     "output_type": "stream",
     "text": [
      "This non-commercial license of GraphLab Create for academic use is assigned to bmatthewtaylor@gmail.com and will expire on October 27, 2017.\n",
      "<class 'graphlab.data_structures.sframe.SFrame'> (21613, 21)\n"
     ]
    }
   ],
   "source": [
    "sales = graphlab.SFrame('../data/home_data.gl/')\n",
    "print type(sales), sales.shape"
   ]
  },
  {
   "cell_type": "code",
   "execution_count": 5,
   "metadata": {
    "collapsed": false
   },
   "outputs": [
    {
     "name": "stdout",
     "output_type": "stream",
     "text": [
      "['id', 'date', 'price', 'bedrooms', 'bathrooms', 'sqft_living', 'sqft_lot', 'floors', 'waterfront', 'view', 'condition', 'grade', 'sqft_above', 'sqft_basement', 'yr_built', 'yr_renovated', 'zipcode', 'lat', 'long', 'sqft_living15', 'sqft_lot15']\n"
     ]
    }
   ],
   "source": [
    "print sales.column_names()"
   ]
  },
  {
   "cell_type": "code",
   "execution_count": 6,
   "metadata": {
    "collapsed": false
   },
   "outputs": [
    {
     "data": {
      "text/plain": [
       "dtype: str\n",
       "Rows: 21613\n",
       "['98178', '98125', '98028', '98136', '98074', '98053', '98003', '98198', '98146', '98038', '98007', '98115', '98028', '98074', '98107', '98126', '98019', '98103', '98002', '98003', '98133', '98040', '98092', '98030', '98030', '98002', '98119', '98112', '98115', '98052', '98027', '98133', '98117', '98117', '98058', '98115', '98052', '98107', '98001', '98056', '98074', '98166', '98053', '98119', '98058', '98019', '98023', '98007', '98115', '98070', '98148', '98056', '98117', '98117', '98105', '98105', '98042', '98042', '98008', '98059', '98166', '98148', '98166', '98115', '98122', '98144', '98004', '98001', '98042', '98004', '98005', '98034', '98125', '98038', '98042', '98075', '98008', '98116', '98133', '98010', '98038', '98038', '98118', '98059', '98125', '98119', '98092', '98056', '98056', '98136', '98023', '98199', '98023', '98117', '98117', '98040', '98032', '98023', '98038', '98045', ... ]"
      ]
     },
     "execution_count": 6,
     "metadata": {},
     "output_type": "execute_result"
    }
   ],
   "source": [
    "sales['zipcode']"
   ]
  },
  {
   "cell_type": "code",
   "execution_count": 17,
   "metadata": {
    "collapsed": false
   },
   "outputs": [
    {
     "data": {
      "text/plain": [
       "21613"
      ]
     },
     "execution_count": 17,
     "metadata": {},
     "output_type": "execute_result"
    }
   ],
   "source": [
    "len(sales['zipcode'])"
   ]
  },
  {
   "cell_type": "code",
   "execution_count": 18,
   "metadata": {
    "collapsed": false
   },
   "outputs": [],
   "source": [
    "import graphlab.aggregate as agg"
   ]
  },
  {
   "cell_type": "code",
   "execution_count": 19,
   "metadata": {
    "collapsed": false
   },
   "outputs": [
    {
     "name": "stdout",
     "output_type": "stream",
     "text": [
      "+---------+-----------+---------------+-----------+\n",
      "| zipcode | min_price |   mean_price  | max_price |\n",
      "+---------+-----------+---------------+-----------+\n",
      "|  98032  |   85000   |   251296.24   |   545000  |\n",
      "|  98115  |   200000  |  619900.5506  |  2300000  |\n",
      "|  98075  |   406430  | 790576.668524 |  3200000  |\n",
      "|  98034  |   90000   | 521652.858716 |  3120000  |\n",
      "|  98106  |   90000   |  319581.39403 |   795000  |\n",
      "|  98024  |   142000  | 580526.790123 |  1862000  |\n",
      "|  98122  |   202000  | 634360.175862 |  2050000  |\n",
      "|  98010  |   135000  |   423665.99   |   935000  |\n",
      "|  98117  |   125000  | 576795.007233 |  1370000  |\n",
      "|  98116  |   130000  | 618634.178788 |  2050000  |\n",
      "+---------+-----------+---------------+-----------+\n",
      "[70 rows x 4 columns]\n",
      "Note: Only the head of the SFrame is printed.\n",
      "You can use print_rows(num_rows=m, num_columns=n) to print more rows and columns.\n",
      "(70, 4)\n"
     ]
    }
   ],
   "source": [
    "zipSalesStats = sales.groupby(key_columns='zipcode', operations={\n",
    "    'mean_price': agg.MEAN('price'),\n",
    "    'max_price': agg.MAX('price'),\n",
    "    'min_price': agg.MIN('price')\n",
    "    })\n",
    "print zipSalesStats\n",
    "print zipSalesStats.shape"
   ]
  },
  {
   "cell_type": "code",
   "execution_count": 20,
   "metadata": {
    "collapsed": false
   },
   "outputs": [
    {
     "data": {
      "text/plain": [
       "graphlab.data_structures.sarray.SArray"
      ]
     },
     "execution_count": 20,
     "metadata": {},
     "output_type": "execute_result"
    }
   ],
   "source": [
    "type(zipSalesStats['mean_price'])"
   ]
  },
  {
   "cell_type": "markdown",
   "metadata": {},
   "source": [
    "Quiz Q1: We found the zip code with the highest average house price. What is the average house price of that zip code?  \n",
    "max mean_price= 2160606 is correct answer"
   ]
  },
  {
   "cell_type": "code",
   "execution_count": 21,
   "metadata": {
    "collapsed": false
   },
   "outputs": [
    {
     "name": "stdout",
     "output_type": "stream",
     "text": [
      "max mean_price= 2160606\n",
      "zip code with max mean =  98039\n"
     ]
    }
   ],
   "source": [
    "temp = zipSalesStats['mean_price'].max()\n",
    "print \"max mean_price=\", int(temp)\n",
    "max_zipcode = list(zipSalesStats['mean_price']).index(temp)\n",
    "#print \"index of max mean_price=\", max_zipcode\n",
    "print \"zip code with max mean = \", zipSalesStats['zipcode'][max_zipcode]"
   ]
  },
  {
   "cell_type": "code",
   "execution_count": 22,
   "metadata": {
    "collapsed": false
   },
   "outputs": [
    {
     "name": "stdout",
     "output_type": "stream",
     "text": [
      "<type 'list'>\n",
      "21613\n"
     ]
    }
   ],
   "source": [
    "sqft_living = list(sales['sqft_living'])\n",
    "print type(sqft_living)\n",
    "print len(sqft_living)"
   ]
  },
  {
   "cell_type": "code",
   "execution_count": 23,
   "metadata": {
    "collapsed": false
   },
   "outputs": [
    {
     "name": "stdout",
     "output_type": "stream",
     "text": [
      "[1180L, 2570L, 770L, 1960L, 1680L, 5420L, 1715L, 1060L, 1780L, 1890L]\n"
     ]
    }
   ],
   "source": [
    "print sqft_living[0:10]"
   ]
  },
  {
   "cell_type": "code",
   "execution_count": 24,
   "metadata": {
    "collapsed": false
   },
   "outputs": [
    {
     "data": {
      "text/plain": [
       "dtype: int\n",
       "Rows: 20\n",
       "[1180L, 2570L, 770L, 1960L, 1680L, 5420L, 1715L, 1060L, 1780L, 1890L, 3560L, 1160L, 1430L, 1370L, 1810L, 2950L, 1890L, 1600L, 1200L, 1250L]"
      ]
     },
     "execution_count": 24,
     "metadata": {},
     "output_type": "execute_result"
    }
   ],
   "source": [
    "sales['sqft_living'][0:20]"
   ]
  },
  {
   "cell_type": "code",
   "execution_count": 25,
   "metadata": {
    "collapsed": false
   },
   "outputs": [
    {
     "name": "stdout",
     "output_type": "stream",
     "text": [
      "<type 'long'>\n"
     ]
    }
   ],
   "source": [
    "print type(sales['sqft_living'][0])"
   ]
  },
  {
   "cell_type": "code",
   "execution_count": 26,
   "metadata": {
    "collapsed": false
   },
   "outputs": [
    {
     "name": "stdout",
     "output_type": "stream",
     "text": [
      "<class 'graphlab.data_structures.sframe.SFrame'>\n"
     ]
    }
   ],
   "source": [
    "print type(sales)"
   ]
  },
  {
   "cell_type": "code",
   "execution_count": 27,
   "metadata": {
    "collapsed": false
   },
   "outputs": [
    {
     "name": "stdout",
     "output_type": "stream",
     "text": [
      "[2570L, 3560L, 2950L, 3050L, 2270L, 2450L, 2450L, 2570L, 2320L, 2330L]\n",
      "9221\n",
      "21613\n"
     ]
    }
   ],
   "source": [
    "sqft_living2kto4k = [i for i in sqft_living if (i >= 2000 and i<=4000)]\n",
    "print sqft_living2kto4k[0:10]\n",
    "print len(sqft_living2kto4k)\n",
    "print len(sqft_living)"
   ]
  },
  {
   "cell_type": "markdown",
   "metadata": {},
   "source": [
    "Quiz question 2 : 'What fraction of the houses have living space between 2000 sq.ft. and 4000 sq.ft.?'  \n",
    "correct answer = Between 0.4 and 0.49"
   ]
  },
  {
   "cell_type": "code",
   "execution_count": 29,
   "metadata": {
    "collapsed": false
   },
   "outputs": [
    {
     "name": "stdout",
     "output_type": "stream",
     "text": [
      " fraction of the houses have living space between 2000 sq.ft. and 4000 sq.ft. = 0.426641373248\n"
     ]
    }
   ],
   "source": [
    "print ' fraction of the houses have living space between 2000 sq.ft. and 4000 sq.ft. =', len(sqft_living2kto4k)*1.0 / len(sqft_living)"
   ]
  },
  {
   "cell_type": "code",
   "execution_count": null,
   "metadata": {
    "collapsed": true
   },
   "outputs": [],
   "source": []
  }
 ],
 "metadata": {
  "kernelspec": {
   "display_name": "Python 2",
   "language": "python",
   "name": "python2"
  },
  "language_info": {
   "codemirror_mode": {
    "name": "ipython",
    "version": 2
   },
   "file_extension": ".py",
   "mimetype": "text/x-python",
   "name": "python",
   "nbconvert_exporter": "python",
   "pygments_lexer": "ipython2",
   "version": "2.7.11"
  }
 },
 "nbformat": 4,
 "nbformat_minor": 0
}
